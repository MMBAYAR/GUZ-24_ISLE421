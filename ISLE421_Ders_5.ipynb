{
  "nbformat": 4,
  "nbformat_minor": 0,
  "metadata": {
    "colab": {
      "provenance": [],
      "authorship_tag": "ABX9TyOMEi3QWxdLcvYQVrBZk4xc",
      "include_colab_link": true
    },
    "kernelspec": {
      "name": "python3",
      "display_name": "Python 3"
    },
    "language_info": {
      "name": "python"
    }
  },
  "cells": [
    {
      "cell_type": "markdown",
      "metadata": {
        "id": "view-in-github",
        "colab_type": "text"
      },
      "source": [
        "<a href=\"https://colab.research.google.com/github/MMBAYAR/GUZ-24_ISLE421/blob/main/ISLE421_Ders_5.ipynb\" target=\"_parent\"><img src=\"https://colab.research.google.com/assets/colab-badge.svg\" alt=\"Open In Colab\"/></a>"
      ]
    },
    {
      "cell_type": "code",
      "execution_count": 1,
      "metadata": {
        "colab": {
          "base_uri": "https://localhost:8080/"
        },
        "id": "6H318lAWKkjG",
        "outputId": "d75bd785-938a-49f1-ba50-b7d5a6fe76a3"
      },
      "outputs": [
        {
          "output_type": "stream",
          "name": "stdout",
          "text": [
            "Collecting gurobipy\n",
            "  Downloading gurobipy-11.0.3-cp310-cp310-manylinux2014_x86_64.manylinux_2_17_x86_64.whl.metadata (15 kB)\n",
            "Downloading gurobipy-11.0.3-cp310-cp310-manylinux2014_x86_64.manylinux_2_17_x86_64.whl (13.4 MB)\n",
            "\u001b[2K   \u001b[90m━━━━━━━━━━━━━━━━━━━━━━━━━━━━━━━━━━━━━━━━\u001b[0m \u001b[32m13.4/13.4 MB\u001b[0m \u001b[31m29.5 MB/s\u001b[0m eta \u001b[36m0:00:00\u001b[0m\n",
            "\u001b[?25hInstalling collected packages: gurobipy\n",
            "Successfully installed gurobipy-11.0.3\n"
          ]
        }
      ],
      "source": [
        "!pip install gurobipy"
      ]
    },
    {
      "cell_type": "code",
      "source": [
        "from gurobipy import*"
      ],
      "metadata": {
        "id": "zc7yCU-QK2ot"
      },
      "execution_count": 2,
      "outputs": []
    },
    {
      "cell_type": "code",
      "source": [
        "#  Veri\n",
        "\n",
        "#    c vektörü\n",
        "c = [60,30,20]\n",
        "#    b vektörü\n",
        "b = [48,20,8,5]\n",
        "#    A matrisi\n",
        "A = [\n",
        "    (8    ,6   ,1  ),\n",
        "    (4    ,2   ,3/2),\n",
        "    (2    ,1.5 ,0.5),\n",
        "    (0    ,1   ,0  )\n",
        "    ]"
      ],
      "metadata": {
        "id": "t9XTdghiK6gc"
      },
      "execution_count": 4,
      "outputs": []
    },
    {
      "cell_type": "code",
      "source": [
        "m = Model()\n",
        "\n",
        "#  Karar değişkenlerini tanımlama\n",
        "x = m.addVars( len(c), vtype = 'c' )\n",
        "\n",
        "#  Amaç fonksiyonu\n",
        "m.setObjective(\n",
        "    quicksum( c[j]*x[j] for j in range(len(c)) )\n",
        "    , GRB.MAXIMIZE)\n",
        "\n",
        "#  Kısıtlar\n",
        "for i in range(len(A)):\n",
        "  m.addConstr(\n",
        "  quicksum( A[i][j]*x[j] for j in range(len(c)) ) <= b[i]\n",
        "  )\n",
        "\n",
        "#  Çöz!\n",
        "m.optimize()"
      ],
      "metadata": {
        "colab": {
          "base_uri": "https://localhost:8080/"
        },
        "id": "lE_xF-T3MWi1",
        "outputId": "3aa0d83c-72c6-4c09-d4ee-fd7cfd2bcc25"
      },
      "execution_count": 5,
      "outputs": [
        {
          "output_type": "stream",
          "name": "stdout",
          "text": [
            "Restricted license - for non-production use only - expires 2025-11-24\n",
            "Gurobi Optimizer version 11.0.3 build v11.0.3rc0 (linux64 - \"Ubuntu 22.04.3 LTS\")\n",
            "\n",
            "CPU model: Intel(R) Xeon(R) CPU @ 2.20GHz, instruction set [SSE2|AVX|AVX2]\n",
            "Thread count: 1 physical cores, 2 logical processors, using up to 2 threads\n",
            "\n",
            "Optimize a model with 4 rows, 3 columns and 10 nonzeros\n",
            "Model fingerprint: 0x601130f1\n",
            "Coefficient statistics:\n",
            "  Matrix range     [5e-01, 8e+00]\n",
            "  Objective range  [2e+01, 6e+01]\n",
            "  Bounds range     [0e+00, 0e+00]\n",
            "  RHS range        [5e+00, 5e+01]\n",
            "Presolve removed 1 rows and 0 columns\n",
            "Presolve time: 0.02s\n",
            "Presolved: 3 rows, 3 columns, 9 nonzeros\n",
            "\n",
            "Iteration    Objective       Primal Inf.    Dual Inf.      Time\n",
            "       0    9.6000000e+02   2.316308e+01   0.000000e+00      0s\n",
            "       4    2.8000000e+02   0.000000e+00   0.000000e+00      0s\n",
            "\n",
            "Solved in 4 iterations and 0.04 seconds (0.00 work units)\n",
            "Optimal objective  2.800000000e+02\n"
          ]
        }
      ]
    },
    {
      "cell_type": "code",
      "source": [
        "[x[j].x for j in range(len(c))]"
      ],
      "metadata": {
        "colab": {
          "base_uri": "https://localhost:8080/"
        },
        "id": "1GS4xMrcOsEg",
        "outputId": "e95d12c3-b796-47e2-9426-c1035dc5cc5d"
      },
      "execution_count": 6,
      "outputs": [
        {
          "output_type": "execute_result",
          "data": {
            "text/plain": [
              "[2.0000000000000004, 0.0, 7.999999999999999]"
            ]
          },
          "metadata": {},
          "execution_count": 6
        }
      ]
    },
    {
      "cell_type": "code",
      "source": [
        "m.getAttr('Pi')"
      ],
      "metadata": {
        "colab": {
          "base_uri": "https://localhost:8080/"
        },
        "id": "e-VUHjzzPB7h",
        "outputId": "74a293c3-1d95-4a99-e35b-42267a48a3ae"
      },
      "execution_count": 8,
      "outputs": [
        {
          "output_type": "execute_result",
          "data": {
            "text/plain": [
              "[0.0, 10.000000000000004, 9.999999999999995, 0.0]"
            ]
          },
          "metadata": {},
          "execution_count": 8
        }
      ]
    },
    {
      "cell_type": "code",
      "source": [
        "[x[j].getAttr('RC') for j in range(len(c))]"
      ],
      "metadata": {
        "colab": {
          "base_uri": "https://localhost:8080/"
        },
        "id": "rLHdR30yPvjS",
        "outputId": "6ddb60d9-7d28-4e7f-cd06-a1a9a1f9b706"
      },
      "execution_count": 9,
      "outputs": [
        {
          "output_type": "execute_result",
          "data": {
            "text/plain": [
              "[0.0, -5.0, 0.0]"
            ]
          },
          "metadata": {},
          "execution_count": 9
        }
      ]
    },
    {
      "cell_type": "code",
      "source": [],
      "metadata": {
        "id": "PayvIE6NQPHU"
      },
      "execution_count": null,
      "outputs": []
    }
  ]
}