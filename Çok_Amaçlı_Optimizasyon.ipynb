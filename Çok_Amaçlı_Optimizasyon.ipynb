{
  "nbformat": 4,
  "nbformat_minor": 0,
  "metadata": {
    "colab": {
      "provenance": [],
      "authorship_tag": "ABX9TyMNiMA0IoVsYWFr5TjPjxSY",
      "include_colab_link": true
    },
    "kernelspec": {
      "name": "python3",
      "display_name": "Python 3"
    },
    "language_info": {
      "name": "python"
    }
  },
  "cells": [
    {
      "cell_type": "markdown",
      "metadata": {
        "id": "view-in-github",
        "colab_type": "text"
      },
      "source": [
        "<a href=\"https://colab.research.google.com/github/MMBAYAR/GUZ-24_ISLE421/blob/main/%C3%87ok_Ama%C3%A7l%C4%B1_Optimizasyon.ipynb\" target=\"_parent\"><img src=\"https://colab.research.google.com/assets/colab-badge.svg\" alt=\"Open In Colab\"/></a>"
      ]
    },
    {
      "cell_type": "code",
      "execution_count": 1,
      "metadata": {
        "colab": {
          "base_uri": "https://localhost:8080/"
        },
        "id": "6-hook9uQTuh",
        "outputId": "29427f0a-7108-4015-a771-60a16ae8a67b"
      },
      "outputs": [
        {
          "output_type": "stream",
          "name": "stdout",
          "text": [
            "Collecting gurobipy\n",
            "  Downloading gurobipy-12.0.0-cp310-cp310-manylinux2014_x86_64.manylinux_2_17_x86_64.whl.metadata (15 kB)\n",
            "Downloading gurobipy-12.0.0-cp310-cp310-manylinux2014_x86_64.manylinux_2_17_x86_64.whl (14.4 MB)\n",
            "\u001b[2K   \u001b[90m━━━━━━━━━━━━━━━━━━━━━━━━━━━━━━━━━━━━━━━━\u001b[0m \u001b[32m14.4/14.4 MB\u001b[0m \u001b[31m33.6 MB/s\u001b[0m eta \u001b[36m0:00:00\u001b[0m\n",
            "\u001b[?25hInstalling collected packages: gurobipy\n",
            "Successfully installed gurobipy-12.0.0\n"
          ]
        }
      ],
      "source": [
        "#  Gurobioy modülünü kur ve çalıştır\n",
        "!pip install gurobipy\n",
        "from gurobipy import*"
      ]
    },
    {
      "cell_type": "code",
      "source": [
        "#  Veri\n",
        "#   Amaçlar\n",
        "maliyet = [40000, 32000]\n",
        "atık_su = [800, 1250]\n",
        "iş_kazası = [0.2, 0.45]\n",
        "\n",
        "#  Talepler\n",
        "talep = [48, 28, 100]\n",
        "\n",
        "#  Sahalardaki kömür üretim hızları\n",
        "kömür = [\n",
        "          (12, 4),  #  A ve B sahalarından yüksek kalite kömür üretim hızları\n",
        "          (4, 4),   #  A ve B sahalarından orta kalite kömür üretim hızları\n",
        "          (10, 20)  #  A ve B sahalarından düşük kalite kömür üretim hızları\n",
        "          ]"
      ],
      "metadata": {
        "id": "ycgzP3OeQetg"
      },
      "execution_count": 2,
      "outputs": []
    },
    {
      "cell_type": "code",
      "source": [
        "#  m değişkeninde bir Model() nesnesini sabitle\n",
        "m = Model()\n",
        "\n",
        "#  Karar Değişkenleri\n",
        "x = m.addVars( 2, vtype = 'i' ) #  len(maliyet)\n",
        "\n",
        "#  Kısıtlar\n",
        "for i in range(3):  #  len(kömür), len(talep)\n",
        "  m.addConstr(\n",
        "              quicksum( kömür[i][j]*x[j] for j in x.keys() ) >= talep[i]  #  range(2), range( len( kömür[0] ) )\n",
        "              )\n",
        "\n",
        "#  Amaçlar\n",
        "mal = quicksum( maliyet[j]*x[j] for j in x.keys() )\n",
        "asu = quicksum( atık_su[j]*x[j] for j in x.keys() )\n",
        "ika = quicksum( iş_kazası[j]*x[j] for j in x.keys() )"
      ],
      "metadata": {
        "id": "lpZ6VRspRbRT"
      },
      "execution_count": 4,
      "outputs": []
    },
    {
      "cell_type": "code",
      "source": [
        "m.setObjective(\n",
        "                ika,            #  mal, asu ve ika için ayrı ayrı çalıştır\n",
        "                GRB.MINIMIZE\n",
        "                )\n",
        "m.optimize()"
      ],
      "metadata": {
        "colab": {
          "base_uri": "https://localhost:8080/"
        },
        "id": "4hmBXWHSTcV-",
        "outputId": "6a9c8eb8-bb93-4863-fb3e-df7b220278dd"
      },
      "execution_count": 10,
      "outputs": [
        {
          "output_type": "stream",
          "name": "stdout",
          "text": [
            "Gurobi Optimizer version 12.0.0 build v12.0.0rc1 (linux64 - \"Ubuntu 22.04.3 LTS\")\n",
            "\n",
            "CPU model: Intel(R) Xeon(R) CPU @ 2.20GHz, instruction set [SSE2|AVX|AVX2]\n",
            "Thread count: 1 physical cores, 2 logical processors, using up to 2 threads\n",
            "\n",
            "Optimize a model with 3 rows, 2 columns and 6 nonzeros\n",
            "Model fingerprint: 0xb46219bf\n",
            "Variable types: 0 continuous, 2 integer (0 binary)\n",
            "Coefficient statistics:\n",
            "  Matrix range     [4e+00, 2e+01]\n",
            "  Objective range  [2e-01, 5e-01]\n",
            "  Bounds range     [0e+00, 0e+00]\n",
            "  RHS range        [3e+01, 1e+02]\n",
            "\n",
            "Loaded MIP start from previous solve with objective 2.15\n",
            "\n",
            "Presolve time: 0.00s\n",
            "Presolved: 3 rows, 2 columns, 6 nonzeros\n",
            "Variable types: 0 continuous, 2 integer (0 binary)\n",
            "\n",
            "Root relaxation: objective 2.000000e+00, 1 iterations, 0.00 seconds (0.00 work units)\n",
            "\n",
            "    Nodes    |    Current Node    |     Objective Bounds      |     Work\n",
            " Expl Unexpl |  Obj  Depth IntInf | Incumbent    BestBd   Gap | It/Node Time\n",
            "\n",
            "*    0     0               0       2.0000000    2.00000  0.00%     -    0s\n",
            "\n",
            "Explored 1 nodes (1 simplex iterations) in 0.03 seconds (0.00 work units)\n",
            "Thread count was 2 (of 2 available processors)\n",
            "\n",
            "Solution count 2: 2 2.15 \n",
            "\n",
            "Optimal solution found (tolerance 1.00e-04)\n",
            "Best objective 2.000000000000e+00, best bound 2.000000000000e+00, gap 0.0000%\n"
          ]
        }
      ]
    },
    {
      "cell_type": "code",
      "source": [
        "#  Amaçlar\n",
        "quicksum( maliyet[j]*x[j].x for j in x.keys() ), \\\n",
        "quicksum( atık_su[j]*x[j].x for j in x.keys() ), \\\n",
        "quicksum( iş_kazası[j]*x[j].x for j in x.keys() )"
      ],
      "metadata": {
        "colab": {
          "base_uri": "https://localhost:8080/"
        },
        "id": "nH_smzMNTzu0",
        "outputId": "c178d7b4-81ec-4ff7-b0bd-858f26466581"
      },
      "execution_count": 11,
      "outputs": [
        {
          "output_type": "execute_result",
          "data": {
            "text/plain": [
              "(<gurobi.LinExpr: 400000.0>, <gurobi.LinExpr: 8000.0>, <gurobi.LinExpr: 2.0>)"
            ]
          },
          "metadata": {},
          "execution_count": 11
        }
      ]
    },
    {
      "cell_type": "markdown",
      "source": [
        "#  Öncelikli Hedef Programlama Çözümü ( mal > ika > asu )"
      ],
      "metadata": {
        "id": "tI-pJoFKbYqq"
      }
    },
    {
      "cell_type": "code",
      "source": [
        "#  m değişkeninde bir Model() nesnesini sabitle\n",
        "m = Model()\n",
        "\n",
        "#  Karar Değişkenleri\n",
        "x = m.addVars( 2, vtype = 'i' ) #  len(maliyet)\n",
        "\n",
        "#  Kısıtlar\n",
        "for i in range(3):  #  len(kömür), len(talep)\n",
        "  m.addConstr(\n",
        "              quicksum( kömür[i][j]*x[j] for j in x.keys() ) >= talep[i]  #  range(2), range( len( kömür[0] ) )\n",
        "              )\n",
        "\n",
        "#  Amaçlar\n",
        "mal = quicksum( maliyet[j]*x[j] for j in x.keys() )\n",
        "asu = quicksum( atık_su[j]*x[j] for j in x.keys() )\n",
        "ika = quicksum( iş_kazası[j]*x[j] for j in x.keys() )\n",
        "\n",
        "#  Maliyet için çöz\n",
        "m.setObjective(\n",
        "              mal,\n",
        "              GRB.MINIMIZE\n",
        "              )\n",
        "m.optimize()"
      ],
      "metadata": {
        "colab": {
          "base_uri": "https://localhost:8080/"
        },
        "id": "VVcqWZPoT9H4",
        "outputId": "4f7d0aff-a86d-4179-a4ce-e1668e9b1860"
      },
      "execution_count": 12,
      "outputs": [
        {
          "output_type": "stream",
          "name": "stdout",
          "text": [
            "Gurobi Optimizer version 12.0.0 build v12.0.0rc1 (linux64 - \"Ubuntu 22.04.3 LTS\")\n",
            "\n",
            "CPU model: Intel(R) Xeon(R) CPU @ 2.20GHz, instruction set [SSE2|AVX|AVX2]\n",
            "Thread count: 1 physical cores, 2 logical processors, using up to 2 threads\n",
            "\n",
            "Optimize a model with 3 rows, 2 columns and 6 nonzeros\n",
            "Model fingerprint: 0x273beab8\n",
            "Variable types: 0 continuous, 2 integer (0 binary)\n",
            "Coefficient statistics:\n",
            "  Matrix range     [4e+00, 2e+01]\n",
            "  Objective range  [3e+04, 4e+04]\n",
            "  Bounds range     [0e+00, 0e+00]\n",
            "  RHS range        [3e+01, 1e+02]\n",
            "Found heuristic solution: objective 384000.00000\n",
            "Presolve time: 0.00s\n",
            "Presolved: 3 rows, 2 columns, 6 nonzeros\n",
            "Variable types: 0 continuous, 2 integer (0 binary)\n",
            "\n",
            "Root relaxation: objective 2.440000e+05, 3 iterations, 0.00 seconds (0.00 work units)\n",
            "\n",
            "    Nodes    |    Current Node    |     Objective Bounds      |     Work\n",
            " Expl Unexpl |  Obj  Depth IntInf | Incumbent    BestBd   Gap | It/Node Time\n",
            "\n",
            "     0     0 244000.000    0    2 384000.000 244000.000  36.5%     -    0s\n",
            "H    0     0                    248000.00000 244000.000  1.61%     -    0s\n",
            "     0     0 244000.000    0    2 248000.000 244000.000  1.61%     -    0s\n",
            "\n",
            "Explored 1 nodes (3 simplex iterations) in 0.02 seconds (0.00 work units)\n",
            "Thread count was 2 (of 2 available processors)\n",
            "\n",
            "Solution count 2: 248000 384000 \n",
            "\n",
            "Optimal solution found (tolerance 1.00e-04)\n",
            "Best objective 2.480000000000e+05, best bound 2.480000000000e+05, gap 0.0000%\n"
          ]
        }
      ]
    },
    {
      "cell_type": "code",
      "source": [
        "m.addConstr(\n",
        "            mal <= 248000  #  Bulduğum optimal değerin sağlanması kuralını modele ekledim\n",
        "            )\n",
        "\n",
        "#  İş kazası için çöz\n",
        "m.setObjective(\n",
        "              ika,\n",
        "              GRB.MINIMIZE\n",
        "              )\n",
        "m.optimize()"
      ],
      "metadata": {
        "colab": {
          "base_uri": "https://localhost:8080/"
        },
        "id": "6nEYUGsrbyiz",
        "outputId": "5aef5428-a153-4f31-c4a0-9f1f859374d5"
      },
      "execution_count": 14,
      "outputs": [
        {
          "output_type": "stream",
          "name": "stdout",
          "text": [
            "Gurobi Optimizer version 12.0.0 build v12.0.0rc1 (linux64 - \"Ubuntu 22.04.3 LTS\")\n",
            "\n",
            "CPU model: Intel(R) Xeon(R) CPU @ 2.20GHz, instruction set [SSE2|AVX|AVX2]\n",
            "Thread count: 1 physical cores, 2 logical processors, using up to 2 threads\n",
            "\n",
            "Optimize a model with 5 rows, 2 columns and 10 nonzeros\n",
            "Model fingerprint: 0xece320a1\n",
            "Variable types: 0 continuous, 2 integer (0 binary)\n",
            "Coefficient statistics:\n",
            "  Matrix range     [4e+00, 4e+04]\n",
            "  Objective range  [2e-01, 5e-01]\n",
            "  Bounds range     [0e+00, 0e+00]\n",
            "  RHS range        [3e+01, 2e+05]\n",
            "\n",
            "Loaded MIP start from previous solve with objective 2.4\n",
            "\n",
            "Presolve removed 5 rows and 2 columns\n",
            "Presolve time: 0.00s\n",
            "Presolve: All rows and columns removed\n",
            "\n",
            "Explored 0 nodes (0 simplex iterations) in 0.02 seconds (0.00 work units)\n",
            "Thread count was 1 (of 2 available processors)\n",
            "\n",
            "Solution count 1: 2.4 \n",
            "\n",
            "Optimal solution found (tolerance 1.00e-04)\n",
            "Best objective 2.400000000000e+00, best bound 2.400000000000e+00, gap 0.0000%\n"
          ]
        }
      ]
    },
    {
      "cell_type": "code",
      "source": [
        "m.addConstr(\n",
        "ika <= 2.4        #  maliyet için kısıtı önceden yazmıştık\n",
        ")                 #  m objesi sabit olduğu için şimdi sadece iş kazası optimal değeri kuralını ekledim\n",
        "\n",
        "#  Atık su için çöz\n",
        "m.setObjective(\n",
        "asu,\n",
        "GRB.MINIMIZE\n",
        ")\n",
        "\n",
        "m.optimize()"
      ],
      "metadata": {
        "colab": {
          "base_uri": "https://localhost:8080/"
        },
        "id": "HPgDYnxEcMdW",
        "outputId": "cc75e106-0d53-463c-b256-f03971125849"
      },
      "execution_count": 15,
      "outputs": [
        {
          "output_type": "stream",
          "name": "stdout",
          "text": [
            "Gurobi Optimizer version 12.0.0 build v12.0.0rc1 (linux64 - \"Ubuntu 22.04.3 LTS\")\n",
            "\n",
            "CPU model: Intel(R) Xeon(R) CPU @ 2.20GHz, instruction set [SSE2|AVX|AVX2]\n",
            "Thread count: 1 physical cores, 2 logical processors, using up to 2 threads\n",
            "\n",
            "Optimize a model with 6 rows, 2 columns and 12 nonzeros\n",
            "Model fingerprint: 0x0e8f0cde\n",
            "Variable types: 0 continuous, 2 integer (0 binary)\n",
            "Coefficient statistics:\n",
            "  Matrix range     [2e-01, 4e+04]\n",
            "  Objective range  [8e+02, 1e+03]\n",
            "  Bounds range     [0e+00, 0e+00]\n",
            "  RHS range        [2e+00, 2e+05]\n",
            "\n",
            "Loaded MIP start from previous solve with objective 7400\n",
            "\n",
            "Presolve removed 6 rows and 2 columns\n",
            "Presolve time: 0.00s\n",
            "Presolve: All rows and columns removed\n",
            "\n",
            "Explored 0 nodes (0 simplex iterations) in 0.03 seconds (0.00 work units)\n",
            "Thread count was 1 (of 2 available processors)\n",
            "\n",
            "Solution count 1: 7400 \n",
            "\n",
            "Optimal solution found (tolerance 1.00e-04)\n",
            "Best objective 7.400000000000e+03, best bound 7.400000000000e+03, gap 0.0000%\n"
          ]
        }
      ]
    },
    {
      "cell_type": "markdown",
      "source": [
        "#  Ağırlıklı Hedef Programlama Yaklaşımı (mal:9/22, ika:7/22, asu:6/22)"
      ],
      "metadata": {
        "id": "lXZyAFtAeVOF"
      }
    },
    {
      "cell_type": "code",
      "source": [
        "#  m değişkeninde bir Model() nesnesini sabitle\n",
        "m = Model()\n",
        "\n",
        "#  Karar Değişkenleri\n",
        "x = m.addVars( 2, vtype = 'i' ) #  len(maliyet)\n",
        "#  Sapma Değişkenli\n",
        "s = m.addVars( 3, vtype = 'c' )\n",
        "\n",
        "#  Kısıtlar\n",
        "for i in range(3):  #  len(kömür), len(talep)\n",
        "  m.addConstr(\n",
        "              quicksum( kömür[i][j]*x[j] for j in x.keys() ) >= talep[i]  #  range(2), range( len( kömür[0] ) )\n",
        "              )\n",
        "\n",
        "#  Amaçlar\n",
        "mal = quicksum( maliyet[j]*x[j] for j in x.keys() )\n",
        "asu = quicksum( atık_su[j]*x[j] for j in x.keys() )\n",
        "ika = quicksum( iş_kazası[j]*x[j] for j in x.keys() )\n",
        "#  Sapmalar\n",
        "m.addConstr(\n",
        "            mal <= 248000 + s[0]\n",
        "            )\n",
        "m.addConstr(\n",
        "            ika <= 2.0 + s[1]\n",
        "            )\n",
        "m.addConstr(\n",
        "            asu <= 6950 + s[2]\n",
        "            )\n",
        "\n",
        "#  Genel Amaç Fonksiyonu\n",
        "m.setObjective(\n",
        "              ( 9/22*s[0] + 7/22*s[1] + 6/22*s[2] ),\n",
        "              GRB.MINIMIZE\n",
        "              )\n",
        "m.optimize()"
      ],
      "metadata": {
        "colab": {
          "base_uri": "https://localhost:8080/"
        },
        "id": "FTAYlvXbcsP5",
        "outputId": "8d920f4c-def9-4186-a731-86eeb3eb0b4e"
      },
      "execution_count": 18,
      "outputs": [
        {
          "output_type": "stream",
          "name": "stdout",
          "text": [
            "Gurobi Optimizer version 12.0.0 build v12.0.0rc1 (linux64 - \"Ubuntu 22.04.3 LTS\")\n",
            "\n",
            "CPU model: Intel(R) Xeon(R) CPU @ 2.20GHz, instruction set [SSE2|AVX|AVX2]\n",
            "Thread count: 1 physical cores, 2 logical processors, using up to 2 threads\n",
            "\n",
            "Optimize a model with 6 rows, 5 columns and 15 nonzeros\n",
            "Model fingerprint: 0x3b85168e\n",
            "Variable types: 3 continuous, 2 integer (0 binary)\n",
            "Coefficient statistics:\n",
            "  Matrix range     [2e-01, 4e+04]\n",
            "  Objective range  [3e-01, 4e-01]\n",
            "  Bounds range     [0e+00, 0e+00]\n",
            "  RHS range        [2e+00, 2e+05]\n",
            "Presolve time: 0.00s\n",
            "Presolved: 6 rows, 5 columns, 15 nonzeros\n",
            "Variable types: 0 continuous, 5 integer (0 binary)\n",
            "Found heuristic solution: objective 57832.900000\n",
            "Found heuristic solution: objective 34118.897727\n",
            "Found heuristic solution: objective 10404.895455\n",
            "Found heuristic solution: objective 3272.7750000\n",
            "Found heuristic solution: objective 122.8545455\n",
            "\n",
            "Explored 0 nodes (0 simplex iterations) in 0.02 seconds (0.00 work units)\n",
            "Thread count was 2 (of 2 available processors)\n",
            "\n",
            "Solution count 5: 122.855 3272.78 10404.9 ... 57832.9\n",
            "\n",
            "Optimal solution found (tolerance 1.00e-04)\n",
            "Best objective 1.228545454545e+02, best bound 1.228545454545e+02, gap 0.0000%\n"
          ]
        }
      ]
    },
    {
      "cell_type": "code",
      "source": [
        "#  Amaçlar\n",
        "quicksum( maliyet[j]*x[j].x for j in x.keys() ), \\\n",
        "quicksum( atık_su[j]*x[j].x for j in x.keys() ), \\\n",
        "quicksum( iş_kazası[j]*x[j].x for j in x.keys() )"
      ],
      "metadata": {
        "colab": {
          "base_uri": "https://localhost:8080/"
        },
        "id": "OkqrT3_Ufdkp",
        "outputId": "cf7667d3-ed28-4b5e-b021-9b94f3d85044"
      },
      "execution_count": 19,
      "outputs": [
        {
          "output_type": "execute_result",
          "data": {
            "text/plain": [
              "(<gurobi.LinExpr: 248000.0>,\n",
              " <gurobi.LinExpr: 7400.0>,\n",
              " <gurobi.LinExpr: 2.4000000000000004>)"
            ]
          },
          "metadata": {},
          "execution_count": 19
        }
      ]
    },
    {
      "cell_type": "markdown",
      "source": [
        "#  Çok Amaçlı Doğrusal Programala Yaklaşımı (mal:9/22, ika:7/22, asu:6/22)"
      ],
      "metadata": {
        "id": "5RxV4Lp1hTV0"
      }
    },
    {
      "cell_type": "code",
      "source": [
        "#  m değişkeninde bir Model() nesnesini sabitle\n",
        "m = Model()\n",
        "\n",
        "#  Karar Değişkenleri\n",
        "x = m.addVars( 2, vtype = 'i' ) #  len(maliyet)\n",
        "#  Başarım Değişkenleri\n",
        "b = m.addVars( 3, vtype = 'c' )\n",
        "\n",
        "#  Kısıtlar\n",
        "for i in range(3):  #  len(kömür), len(talep)\n",
        "  m.addConstr(\n",
        "              quicksum( kömür[i][j]*x[j] for j in x.keys() ) >= talep[i]  #  range(2), range( len( kömür[0] ) )\n",
        "              )\n",
        "\n",
        "#  Amaçlar\n",
        "mal = quicksum( maliyet[j]*x[j] for j in x.keys() )\n",
        "asu = quicksum( atık_su[j]*x[j] for j in x.keys() )\n",
        "ika = quicksum( iş_kazası[j]*x[j] for j in x.keys() )\n",
        "#  Başarımları\n",
        "m.addConstr(\n",
        "            (mal - 248000)/(248000) == b[0]\n",
        "            )\n",
        "m.addConstr(\n",
        "            (ika - 2.0)/(2.0) == b[1]\n",
        "            )\n",
        "m.addConstr(\n",
        "            (asu - 6950)/(6950) == b[2]\n",
        "            )\n",
        "\n",
        "\n",
        "#  Genel Amaç Fonksiyonu\n",
        "m.setObjective(\n",
        "              ( 9/22*b[0] + 7/22*b[1] + 6/22*b[2] ),\n",
        "              GRB.MINIMIZE\n",
        "              )\n",
        "m.optimize()"
      ],
      "metadata": {
        "colab": {
          "base_uri": "https://localhost:8080/"
        },
        "id": "AoWeB53pfg05",
        "outputId": "a6700d6e-1583-4ee7-d446-8296a4e40124"
      },
      "execution_count": 24,
      "outputs": [
        {
          "output_type": "stream",
          "name": "stdout",
          "text": [
            "Gurobi Optimizer version 12.0.0 build v12.0.0rc1 (linux64 - \"Ubuntu 22.04.3 LTS\")\n",
            "\n",
            "CPU model: Intel(R) Xeon(R) CPU @ 2.20GHz, instruction set [SSE2|AVX|AVX2]\n",
            "Thread count: 1 physical cores, 2 logical processors, using up to 2 threads\n",
            "\n",
            "Optimize a model with 6 rows, 5 columns and 15 nonzeros\n",
            "Model fingerprint: 0x8c25481b\n",
            "Variable types: 3 continuous, 2 integer (0 binary)\n",
            "Coefficient statistics:\n",
            "  Matrix range     [1e-01, 2e+01]\n",
            "  Objective range  [3e-01, 4e-01]\n",
            "  Bounds range     [0e+00, 0e+00]\n",
            "  RHS range        [1e+00, 1e+02]\n",
            "Presolve time: 0.00s\n",
            "Presolved: 6 rows, 5 columns, 15 nonzeros\n",
            "Variable types: 0 continuous, 5 integer (0 binary)\n",
            "Found heuristic solution: objective 1.0811420\n",
            "\n",
            "Root relaxation: objective 3.706012e-02, 4 iterations, 0.00 seconds (0.00 work units)\n",
            "\n",
            "    Nodes    |    Current Node    |     Objective Bounds      |     Work\n",
            " Expl Unexpl |  Obj  Depth IntInf | Incumbent    BestBd   Gap | It/Node Time\n",
            "\n",
            "*    0     0               0       0.0370601    0.03706  0.00%     -    0s\n",
            "\n",
            "Explored 1 nodes (4 simplex iterations) in 0.19 seconds (0.00 work units)\n",
            "Thread count was 2 (of 2 available processors)\n",
            "\n",
            "Solution count 2: 0.0370601 1.08114 \n",
            "\n",
            "Optimal solution found (tolerance 1.00e-04)\n",
            "Best objective 3.706011730205e-02, best bound 3.706011730205e-02, gap 0.0000%\n"
          ]
        }
      ]
    },
    {
      "cell_type": "code",
      "source": [
        "#  Amaçlar\n",
        "quicksum( maliyet[j]*x[j].x for j in x.keys() ), \\\n",
        "quicksum( atık_su[j]*x[j].x for j in x.keys() ), \\\n",
        "quicksum( iş_kazası[j]*x[j].x for j in x.keys() )"
      ],
      "metadata": {
        "colab": {
          "base_uri": "https://localhost:8080/"
        },
        "id": "9ogQSLxSiJyE",
        "outputId": "8ef8fdf3-b1c9-4dba-e2bd-9fc4287b0e8c"
      },
      "execution_count": 25,
      "outputs": [
        {
          "output_type": "execute_result",
          "data": {
            "text/plain": [
              "(<gurobi.LinExpr: 256000.0>,\n",
              " <gurobi.LinExpr: 6950.0>,\n",
              " <gurobi.LinExpr: 2.1500000000000004>)"
            ]
          },
          "metadata": {},
          "execution_count": 25
        }
      ]
    },
    {
      "cell_type": "code",
      "source": [],
      "metadata": {
        "id": "L25JvSQ8iMuj"
      },
      "execution_count": null,
      "outputs": []
    }
  ]
}