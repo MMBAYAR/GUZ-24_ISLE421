{
  "nbformat": 4,
  "nbformat_minor": 0,
  "metadata": {
    "colab": {
      "provenance": [],
      "authorship_tag": "ABX9TyPhVCbHsPTQ9EhWAwZQ/25N",
      "include_colab_link": true
    },
    "kernelspec": {
      "name": "python3",
      "display_name": "Python 3"
    },
    "language_info": {
      "name": "python"
    }
  },
  "cells": [
    {
      "cell_type": "markdown",
      "metadata": {
        "id": "view-in-github",
        "colab_type": "text"
      },
      "source": [
        "<a href=\"https://colab.research.google.com/github/MMBAYAR/GUZ-24_ISLE421/blob/main/ISLE421(2)_Ders4.ipynb\" target=\"_parent\"><img src=\"https://colab.research.google.com/assets/colab-badge.svg\" alt=\"Open In Colab\"/></a>"
      ]
    },
    {
      "cell_type": "code",
      "execution_count": 1,
      "metadata": {
        "colab": {
          "base_uri": "https://localhost:8080/"
        },
        "id": "YjtAme-V02rg",
        "outputId": "a63e64ab-3f68-4163-803a-2678ab2defd7"
      },
      "outputs": [
        {
          "output_type": "stream",
          "name": "stdout",
          "text": [
            "Collecting gurobipy\n",
            "  Downloading gurobipy-11.0.3-cp310-cp310-manylinux2014_x86_64.manylinux_2_17_x86_64.whl.metadata (15 kB)\n",
            "Downloading gurobipy-11.0.3-cp310-cp310-manylinux2014_x86_64.manylinux_2_17_x86_64.whl (13.4 MB)\n",
            "\u001b[2K   \u001b[90m━━━━━━━━━━━━━━━━━━━━━━━━━━━━━━━━━━━━━━━━\u001b[0m \u001b[32m13.4/13.4 MB\u001b[0m \u001b[31m49.9 MB/s\u001b[0m eta \u001b[36m0:00:00\u001b[0m\n",
            "\u001b[?25hInstalling collected packages: gurobipy\n",
            "Successfully installed gurobipy-11.0.3\n"
          ]
        }
      ],
      "source": [
        "!pip install gurobipy"
      ]
    },
    {
      "cell_type": "code",
      "source": [
        "from gurobipy import*"
      ],
      "metadata": {
        "id": "VW4zjhKI1Cmv"
      },
      "execution_count": 2,
      "outputs": []
    },
    {
      "cell_type": "code",
      "source": [
        "#  Veri\n",
        "#    Satış fiyatları\n",
        "fiyat = [(70,60,50),\n",
        "         (70,60,50),\n",
        "         (70,60,50)]\n",
        "\n",
        "hmmal = [(45,45,45),\n",
        "         (35,35,35),\n",
        "         (25,25,25)]\n",
        "\n",
        "üsmal = [(4,4,4),\n",
        "         (4,4,4),\n",
        "         (4,4,4)]\n",
        "\n",
        "rhmal = [1,1,1]\n",
        "\n",
        "#...\n",
        "#   Tedarik kısıtları\n",
        "tedsağ = [5000,5000,5000]\n",
        "rafkapsağ = [14000]\n",
        "talepsağ = [3000,2000,1000]\n",
        "\n",
        "tedsol = [\n",
        "          [(1,1,1),\n",
        "          (0,0,0),\n",
        "          (0,0,0)],\n",
        "          [(0,0,0),\n",
        "           (1,1,1),\n",
        "           (0,0,0)],\n",
        "          [(0,0,0),\n",
        "           (0,0,0),\n",
        "           (1,1,1)]\n",
        "        ]\n",
        "\n",
        "rafkapsol = [(1,1,1),\n",
        "             (1,1,1),\n",
        "             (1,1,1)]\n",
        "\n",
        "tlpsol = [\n",
        "          [(1,0,0),\n",
        "          (1,0,0),\n",
        "          (1,0,0,)],\n",
        "          [(0,1,0),\n",
        "           (0,1,0),\n",
        "           (0,1,0)],\n",
        "          [(0,0,1),\n",
        "           (0,0,1),\n",
        "           (0,0,1)]\n",
        "        ]\n",
        "\n",
        "tlp_y = [10,10,10]"
      ],
      "metadata": {
        "id": "Hv3pAavS1ZYU"
      },
      "execution_count": 10,
      "outputs": []
    },
    {
      "cell_type": "code",
      "source": [
        "len(tedsol)"
      ],
      "metadata": {
        "colab": {
          "base_uri": "https://localhost:8080/"
        },
        "id": "3z_Cgw6AH1P6",
        "outputId": "dc4745a3-07a9-4fdb-da91-aa01f217a23d"
      },
      "execution_count": 18,
      "outputs": [
        {
          "output_type": "execute_result",
          "data": {
            "text/plain": [
              "3"
            ]
          },
          "metadata": {},
          "execution_count": 18
        }
      ]
    },
    {
      "cell_type": "code",
      "source": [
        "m = Model()\n",
        "\n",
        "#  Karar değişkenleri\n",
        "x = m.addVars(len(fiyat),                   #  i'lerimi izlemek için fiyat listesindeki demet sayısını aldım (satır sayısını, hm sayısını)\n",
        "              len(fiyat[0]), vtype = 'c')   #  j'lerimi izlemek için fiyat listesindeki herhangi demetin eleman sayısını aldım (sütün sayısını, ürün sayısını)\n",
        "\n",
        "y = m.addVars(len(fiyat[0]), vtype = 'c')   #  j'lerimi ...\n",
        "\n",
        "#  Amaç fonksiyonu\n",
        "#hasılat = quicksum( fiyat[i][j]*x[i,j] for (i,j) in x.keys() )\n",
        "hasılat = quicksum( fiyat[i][j]*x[i,j] for i in range(len(fiyat)) for j in range(len(fiyat[0])) )\n",
        "hm_alım_maliyeti = quicksum( hmmal[i][j]*x[i,j] for i in range(len(fiyat)) for j in range(len(fiyat[0])) )\n",
        "üs_maliyeti = quicksum( üsmal[i][j]*x[i,j] for i in range(len(fiyat)) for j in range(len(fiyat[0])) )\n",
        "reklam_maliyeti = quicksum( rhmal[j]*y[j] for j in range(len(fiyat[0])) )\n",
        "\n",
        "m.setObjective( hasılat - hm_alım_maliyeti - üs_maliyeti - reklam_maliyeti , GRB.MAXIMIZE )\n",
        "\n",
        "#  Kısıtlar\n",
        "#    Tedarik Kısıtları\n",
        "for k in range(len(tedsol)):\n",
        "  m.addConstr(\n",
        "  quicksum( tedsol[k][i][j]*x[i,j] for i in range(len(fiyat)) for j in range(len(fiyat[0])) ) <= tedsağ[k]\n",
        "  )\n",
        "\n",
        "#    Kapasite Kısıtı\n",
        "m.addConstr(\n",
        "quicksum( rafkapsol[i][j]*x[i,j] for i in range(len(fiyat)) for j in range(len(fiyat[0])) ) <= rafkapsağ[0]\n",
        ")\n",
        "\n",
        "#    Talep Kısıtları\n",
        "for k in range(len(tedsol)):\n",
        "  m.addConstr(\n",
        "  quicksum( tlpsol[k][i][j]*x[i,j] for i in range(len(fiyat)) for j in range(len(fiyat[0])) ) <= talepsağ[k] + tlp_y[k]*y[k]\n",
        "  )\n",
        "\n",
        "#  Çözdürme\n",
        "m.optimize()"
      ],
      "metadata": {
        "colab": {
          "base_uri": "https://localhost:8080/"
        },
        "id": "KLXFUlCn2u9l",
        "outputId": "07b2880e-6e4e-4bfe-c1ec-5330a54d761c"
      },
      "execution_count": 20,
      "outputs": [
        {
          "output_type": "stream",
          "name": "stdout",
          "text": [
            "Gurobi Optimizer version 11.0.3 build v11.0.3rc0 (linux64 - \"Ubuntu 22.04.3 LTS\")\n",
            "\n",
            "CPU model: Intel(R) Xeon(R) CPU @ 2.20GHz, instruction set [SSE2|AVX|AVX2]\n",
            "Thread count: 1 physical cores, 2 logical processors, using up to 2 threads\n",
            "\n",
            "Optimize a model with 7 rows, 12 columns and 30 nonzeros\n",
            "Model fingerprint: 0xa47254ca\n",
            "Coefficient statistics:\n",
            "  Matrix range     [1e+00, 1e+01]\n",
            "  Objective range  [1e+00, 4e+01]\n",
            "  Bounds range     [0e+00, 0e+00]\n",
            "  RHS range        [1e+03, 1e+04]\n",
            "Presolve time: 0.01s\n",
            "Presolved: 7 rows, 12 columns, 30 nonzeros\n",
            "\n",
            "Iteration    Objective       Primal Inf.    Dual Inf.      Time\n",
            "       0    1.8900000e+32   1.912500e+31   1.890000e+02      0s\n",
            "       4    4.4290000e+05   0.000000e+00   0.000000e+00      0s\n",
            "\n",
            "Solved in 4 iterations and 0.01 seconds (0.00 work units)\n",
            "Optimal objective  4.429000000e+05\n"
          ]
        }
      ]
    },
    {
      "cell_type": "code",
      "source": [],
      "metadata": {
        "id": "lvKa2TVZ6huw"
      },
      "execution_count": null,
      "outputs": []
    }
  ]
}