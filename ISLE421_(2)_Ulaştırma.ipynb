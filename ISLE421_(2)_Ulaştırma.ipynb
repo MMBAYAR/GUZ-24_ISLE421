{
  "nbformat": 4,
  "nbformat_minor": 0,
  "metadata": {
    "colab": {
      "provenance": [],
      "authorship_tag": "ABX9TyNq2StsSbKfFzyIj7Yd+/mI",
      "include_colab_link": true
    },
    "kernelspec": {
      "name": "python3",
      "display_name": "Python 3"
    },
    "language_info": {
      "name": "python"
    }
  },
  "cells": [
    {
      "cell_type": "markdown",
      "metadata": {
        "id": "view-in-github",
        "colab_type": "text"
      },
      "source": [
        "<a href=\"https://colab.research.google.com/github/MMBAYAR/GUZ-24_ISLE421/blob/main/ISLE421_(2)_Ula%C5%9Ft%C4%B1rma.ipynb\" target=\"_parent\"><img src=\"https://colab.research.google.com/assets/colab-badge.svg\" alt=\"Open In Colab\"/></a>"
      ]
    },
    {
      "cell_type": "code",
      "execution_count": 3,
      "metadata": {
        "colab": {
          "base_uri": "https://localhost:8080/"
        },
        "id": "7p1XBAlx2IP-",
        "outputId": "cb272f2a-52e0-454b-c9a6-2b2610c2cb05"
      },
      "outputs": [
        {
          "output_type": "stream",
          "name": "stdout",
          "text": [
            "Requirement already satisfied: gurobipy in /usr/local/lib/python3.10/dist-packages (12.0.0)\n"
          ]
        }
      ],
      "source": [
        "#  gurobipy'ı kuruyorum\n",
        "!pip install gurobipy\n",
        "#  gurobipy'ı çalıştır\n",
        "from gurobipy import*"
      ]
    },
    {
      "cell_type": "code",
      "source": [
        "#  Postane Problemi Verisi\n",
        "#  c\n",
        "c = [1, 1, 1, 1, 1, 1, 1,                 #  x'lerin katsayıları\n",
        "     0.5, 0.5, 0.5, 0.5, 0.5, 0.5, 0.5]   #  y'lerin katsayıları\n",
        "#  b\n",
        "b = [17, 13, 15, 19, 14, 16, 11]\n",
        "#  A\n",
        "A = [(1, 0, 0, 1, 1, 1, 1,                #  x'lerin katsayıları\n",
        "      1, 0, 0, 0, 0, 0, 1),               #  y'lerin katsayıları\n",
        "     (1, 1, 0, 0, 1, 1, 1,\n",
        "      1, 1, 0, 0, 0, 0, 0),\n",
        "     (1, 1, 1, 0, 0, 1, 1,\n",
        "      0, 1, 1, 0, 0, 0, 0),\n",
        "     (1, 1, 1, 1, 0, 0, 1,\n",
        "      0, 0, 1, 1, 0, 0, 0),\n",
        "     (1, 1, 1, 1, 1, 0, 0,\n",
        "      0, 0, 0, 1, 1, 0, 0),\n",
        "     (0, 1, 1, 1, 1, 1, 0,\n",
        "      0, 0, 0, 0, 1, 1, 0),\n",
        "     (0, 0, 1, 1, 1, 1, 1,\n",
        "      0, 0, 0, 0, 0, 1, 1)]"
      ],
      "metadata": {
        "id": "_EcArmqk4K9-"
      },
      "execution_count": 4,
      "outputs": []
    },
    {
      "cell_type": "code",
      "source": [
        "#  Postane verisini yeniden düzenliyorum\n",
        "\n",
        "c_x = [1, 1, 1, 1, 1, 1, 1]  #  sadece x'lere ait amaç fn katsayıları\n",
        "c_y = [.5, .5, .5, .5, .5, .5, .5]  #  sadece y'lere ait amaç fn katsayıları\n",
        "\n",
        "b = [17, 13, 15, 19, 14, 16, 11]  #  b'lerde bir değişiklik yoktur\n",
        "\n",
        "A_x = [(1, 0, 0, 1, 1, 1, 1),\n",
        "       (1, 1, 0, 0, 1, 1, 1),\n",
        "       (1, 1, 1, 0, 0, 1, 1),\n",
        "       (1, 1, 1, 1, 0, 0, 1),\n",
        "       (1, 1, 1, 1, 1, 0, 0),\n",
        "       (0, 1, 1, 1, 1, 1, 0),\n",
        "       (0, 0, 1, 1, 1, 1, 1)]  #  sadece x'lere ait kısıt sol taraf fn katsayıları\n",
        "\n",
        "A_y = [(1, 0, 0, 0, 0, 0, 1),\n",
        "       (1, 1, 0, 0, 0, 0, 0),\n",
        "       (0, 1, 1, 0, 0, 0, 0),\n",
        "       (0, 0, 1, 1, 0, 0, 0),\n",
        "       (0, 0, 0, 1, 1, 0, 0),\n",
        "       (0, 0, 0, 0, 1, 1, 0),\n",
        "       (0, 0, 0, 0, 0, 1, 1)]  #  sadece y'lere ait kısıt sol taraf fn katsayıları"
      ],
      "metadata": {
        "id": "SAbQkG2j4SNA"
      },
      "execution_count": 8,
      "outputs": []
    },
    {
      "cell_type": "code",
      "source": [
        "m = Model()\n",
        "\n",
        "#. Tam zamanlı çalışanlara ait karar değişkenleri\n",
        "x = m.addVars( len(c_x), vtype = 'c' )\n",
        "#. Yarı zamanlı çalışanlara ait karar değişkenleri\n",
        "y = m.addVars( len(c_y), vtype = 'c' )\n",
        "\n",
        "#. Amaç fonksiyonu\n",
        "m.setObjective(\n",
        "quicksum( c_x[j]*x[j] for j in range(len(c_x)) )\n",
        "+ quicksum( c_y[j]*y[j] for j in range(len(c_y)) )\n",
        ", GRB.MINIMIZE\n",
        ")\n",
        "\n",
        "#. Kısıtlar\n",
        "for i in range(7): # range(len(A_x)) ya da range(len(A_y))\n",
        "  m.addConstr(\n",
        "  quicksum( A_x[i][j]*x[j] for j in range(len(c_x)) )\n",
        "  + quicksum( A_y[i][j]*y[j] for j in range(len(c_y)) )\n",
        "  >= b[i]\n",
        "  )\n",
        "\n",
        "#. Çöz!\n",
        "m.optimize()"
      ],
      "metadata": {
        "colab": {
          "base_uri": "https://localhost:8080/"
        },
        "id": "195K82SG9Sy3",
        "outputId": "90ec1670-34cb-4180-faf7-2d509ea97b0c"
      },
      "execution_count": 11,
      "outputs": [
        {
          "output_type": "stream",
          "name": "stdout",
          "text": [
            "Restricted license - for non-production use only - expires 2026-11-23\n",
            "Gurobi Optimizer version 12.0.0 build v12.0.0rc1 (linux64 - \"Ubuntu 22.04.3 LTS\")\n",
            "\n",
            "CPU model: Intel(R) Xeon(R) CPU @ 2.20GHz, instruction set [SSE2|AVX|AVX2]\n",
            "Thread count: 1 physical cores, 2 logical processors, using up to 2 threads\n",
            "\n",
            "Optimize a model with 7 rows, 14 columns and 49 nonzeros\n",
            "Model fingerprint: 0x84d4d02d\n",
            "Coefficient statistics:\n",
            "  Matrix range     [1e+00, 1e+00]\n",
            "  Objective range  [5e-01, 1e+00]\n",
            "  Bounds range     [0e+00, 0e+00]\n",
            "  RHS range        [1e+01, 2e+01]\n",
            "Presolve time: 0.01s\n",
            "Presolved: 7 rows, 14 columns, 49 nonzeros\n",
            "\n",
            "Iteration    Objective       Primal Inf.    Dual Inf.      Time\n",
            "       0    0.0000000e+00   1.050000e+02   0.000000e+00      0s\n",
            "       6    2.2000000e+01   0.000000e+00   0.000000e+00      0s\n",
            "\n",
            "Solved in 6 iterations and 0.02 seconds (0.00 work units)\n",
            "Optimal objective  2.200000000e+01\n"
          ]
        }
      ]
    },
    {
      "cell_type": "code",
      "source": [
        "[x[j].x for j in range(len(c_x))]"
      ],
      "metadata": {
        "colab": {
          "base_uri": "https://localhost:8080/"
        },
        "id": "Y2zVIWXxDHLd",
        "outputId": "0bcab53a-a8f9-4c90-b12b-4b8dfb1570e3"
      },
      "execution_count": 12,
      "outputs": [
        {
          "output_type": "execute_result",
          "data": {
            "text/plain": [
              "[2.0, 4.0, 0.0, 8.0, 0.0, 4.0, 0.0]"
            ]
          },
          "metadata": {},
          "execution_count": 12
        }
      ]
    },
    {
      "cell_type": "code",
      "source": [
        "[y[j].x for j in range(len(c_y))]"
      ],
      "metadata": {
        "colab": {
          "base_uri": "https://localhost:8080/"
        },
        "id": "DJd90BgREnl-",
        "outputId": "87de15bd-110b-4c56-8b69-41911fe21ee0"
      },
      "execution_count": 13,
      "outputs": [
        {
          "output_type": "execute_result",
          "data": {
            "text/plain": [
              "[3.0, 0.0, 5.0, 0.0, 0.0, 0.0, 0.0]"
            ]
          },
          "metadata": {},
          "execution_count": 13
        }
      ]
    },
    {
      "cell_type": "code",
      "source": [
        "#  Postane verisini yeniden düzenliyorum\n",
        "b = [17, 13, 15, 19, 14, 16, 11]  #  b'lerde bir değişiklik yoktur\n",
        "\n",
        "A_x = [(1, 0, 0, 1, 1, 1, 1),\n",
        "       (1, 1, 0, 0, 1, 1, 1),\n",
        "       (1, 1, 1, 0, 0, 1, 1),\n",
        "       (1, 1, 1, 1, 0, 0, 1),\n",
        "       (1, 1, 1, 1, 1, 0, 0),\n",
        "       (0, 1, 1, 1, 1, 1, 0),\n",
        "       (0, 0, 1, 1, 1, 1, 1)]  #  sadece x'lere ait kısıt sol taraf fn katsayıları\n",
        "\n",
        "A_y = [(1, 0, 0, 0, 0, 0, 1),\n",
        "       (1, 1, 0, 0, 0, 0, 0),\n",
        "       (0, 1, 1, 0, 0, 0, 0),\n",
        "       (0, 0, 1, 1, 0, 0, 0),\n",
        "       (0, 0, 0, 1, 1, 0, 0),\n",
        "       (0, 0, 0, 0, 1, 1, 0),\n",
        "       (0, 0, 0, 0, 0, 1, 1)]  #  sadece y'lere ait kısıt sol taraf fn katsayıları\n",
        "\n",
        "#. yeşil parantez hangi güne katkı yaptığını söylüyor\n",
        "#.   kahverengi parantez de vardiyasının hangi başladığını söylüyor\n",
        "A_z = [(.2, 0., 0., .2, .2, .2, .2),\n",
        "       (.2, .2, 0., 0., .2, .2, .2),\n",
        "       (.2, .2, .2, 0., 0., .2, .2),\n",
        "       (.2, .2, .2, .2, 0., 0., .2),\n",
        "       (.2, .2, .2, .2, .2, 0., 0.),\n",
        "       (0., .2, .2, .2, .2, .2, 0.),\n",
        "       (0., 0., .2, .2, .2, .2, .2)]  #  sadece z'lere ait kısıt sol taraf fn katsayıları"
      ],
      "metadata": {
        "id": "nVL_yTU3EqhP"
      },
      "execution_count": 14,
      "outputs": []
    },
    {
      "cell_type": "code",
      "source": [
        "m = Model()\n",
        "\n",
        "#. Tam zamanlı çalışanlara ait karar değişkenleri\n",
        "x = m.addVars( 7, vtype = 'c' )\n",
        "#. Yarı zamanlı çalışanlara ait karar değişkenleri\n",
        "y = m.addVars( len(A_y[0]), vtype = 'c' )\n",
        "#. Tam zamanlı çalışanlardan fazla mesaiye kalanlara ait karar değişkenleri\n",
        "z = m.addVars( len(A_z[0]),\n",
        "               len(A_z),\n",
        "               vtype = 'c' )  # 7x7'lik bir matristen indisleri okuyor\n",
        "\n",
        "#. Amaç fonksiyonu\n",
        "m.setObjective(\n",
        "1*x.sum()\n",
        "+ 0.5*y.sum()  #. Eğer katsayıları homojense .sum() kullanılabilir\n",
        "+ (1/5)*(.25)*z.sum()\n",
        ", GRB.MINIMIZE\n",
        ")\n",
        "\n",
        "#. Kısıtlar\n",
        "for i in range(7): # range(len(A_x)) ya da range(len(A_y))\n",
        "  m.addConstr(\n",
        "  quicksum( A_x[i][j]*x[j] for j in range(7) )\n",
        "  + quicksum( A_y[i][j]*y[j] for j in range(7) )\n",
        "  + quicksum( A_z[i][j]*z[i,j] for j in range(7) )\n",
        "  >= b[i]\n",
        "  )\n",
        "\n",
        "#. Çöz!\n",
        "m.optimize()"
      ],
      "metadata": {
        "colab": {
          "base_uri": "https://localhost:8080/"
        },
        "id": "Xv_CZbyRHnKo",
        "outputId": "9f8716bd-bd24-4938-8740-5183c5eec537"
      },
      "execution_count": 19,
      "outputs": [
        {
          "output_type": "stream",
          "name": "stdout",
          "text": [
            "Gurobi Optimizer version 12.0.0 build v12.0.0rc1 (linux64 - \"Ubuntu 22.04.3 LTS\")\n",
            "\n",
            "CPU model: Intel(R) Xeon(R) CPU @ 2.20GHz, instruction set [SSE2|AVX|AVX2]\n",
            "Thread count: 1 physical cores, 2 logical processors, using up to 2 threads\n",
            "\n",
            "Optimize a model with 7 rows, 63 columns and 84 nonzeros\n",
            "Model fingerprint: 0x254d969a\n",
            "Coefficient statistics:\n",
            "  Matrix range     [2e-01, 1e+00]\n",
            "  Objective range  [5e-02, 1e+00]\n",
            "  Bounds range     [0e+00, 0e+00]\n",
            "  RHS range        [1e+01, 2e+01]\n",
            "Presolve removed 0 rows and 42 columns\n",
            "Presolve time: 0.01s\n",
            "Presolved: 7 rows, 21 columns, 56 nonzeros\n",
            "\n",
            "Iteration    Objective       Primal Inf.    Dual Inf.      Time\n",
            "       0    0.0000000e+00   1.050000e+02   0.000000e+00      0s\n",
            "       9    2.1500000e+01   0.000000e+00   0.000000e+00      0s\n",
            "\n",
            "Solved in 9 iterations and 0.02 seconds (0.00 work units)\n",
            "Optimal objective  2.150000000e+01\n"
          ]
        }
      ]
    },
    {
      "cell_type": "code",
      "source": [
        "for i in range(7):\n",
        "  for j in range(7):\n",
        "    if z[i,j].x != 0:\n",
        "      print(i,j,z[i,j].x)"
      ],
      "metadata": {
        "colab": {
          "base_uri": "https://localhost:8080/"
        },
        "id": "l2gqeVHbIMWN",
        "outputId": "d113aa92-c8ae-4b45-b61b-f97630bb510b"
      },
      "execution_count": 21,
      "outputs": [
        {
          "output_type": "stream",
          "name": "stdout",
          "text": [
            "3 3 25.0\n",
            "5 4 25.0\n"
          ]
        }
      ]
    },
    {
      "cell_type": "code",
      "source": [
        "x[3].x, x[4].x"
      ],
      "metadata": {
        "colab": {
          "base_uri": "https://localhost:8080/"
        },
        "id": "xNosMi30LRtg",
        "outputId": "f1fc6dd0-0ef7-4b14-c08a-e0bcc1ec4db3"
      },
      "execution_count": 22,
      "outputs": [
        {
          "output_type": "execute_result",
          "data": {
            "text/plain": [
              "(4.0, 0.0)"
            ]
          },
          "metadata": {},
          "execution_count": 22
        }
      ]
    },
    {
      "cell_type": "markdown",
      "source": [
        "#ULAŞTIRMA PROBLEMİ"
      ],
      "metadata": {
        "id": "nRjCpw2NXGfG"
      }
    },
    {
      "cell_type": "code",
      "source": [
        "#. Veri\n",
        "\n",
        "C = [(8,  6, 10, 9),\n",
        "     (9, 12, 13, 16),\n",
        "     (14, 9, 16, 5)]\n",
        "\n",
        "b_kapasite = [35, 50, 40]\n",
        "b_talep    = [45, 20, 30, 30]\n",
        "\n",
        "A_kapasite = [([1,1,1,1],\n",
        "               [0,0,0,0],\n",
        "               [0,0,0,0]),\n",
        "                  ([0,0,0,0],\n",
        "                   [1,1,1,1],\n",
        "                   [0,0,0,0]),\n",
        "                      ([0,0,0,0],\n",
        "                       [0,0,0,0],\n",
        "                       [1,1,1,1])]\n",
        "\n",
        "A_talep = [([1,0,0,0],\n",
        "            [1,0,0,0],\n",
        "            [1,0,0,0]),\n",
        "              ([0,1,0,0],\n",
        "               [0,1,0,0],\n",
        "               [0,1,0,0]),\n",
        "                  ([0,0,1,0],\n",
        "                   [0,0,1,0],\n",
        "                   [0,0,1,0]),\n",
        "                      ([0,0,0,1],\n",
        "                       [0,0,0,1],\n",
        "                       [0,0,0,1])]"
      ],
      "metadata": {
        "id": "zvTj4MApLjCK"
      },
      "execution_count": 23,
      "outputs": []
    },
    {
      "cell_type": "code",
      "source": [
        "m = Model()\n",
        "\n",
        "#. karar değ.\n",
        "x = m.addVars(\n",
        "              3, 4,\n",
        "              vtype = 'c'\n",
        "              )\n",
        "\n",
        "#. amaç fn\n",
        "m.setObjective(\n",
        "quicksum( C[i][j]*x[i,j] for i in range(3) for j in range(4) )\n",
        ", GRB.MINIMIZE\n",
        ")\n",
        "\n",
        "#. kısıtlar\n",
        "#.   arz (kapasite) kısıtları\n",
        "for i in range(3):\n",
        "  m.addConstr(\n",
        "  quicksum( x[i,j] for j in range(4) ) <= b_kapasite[i]\n",
        "  )\n",
        "\n",
        "#.   talep kısıtları\n",
        "for j in range(4):\n",
        "  m.addConstr(\n",
        "  quicksum( x[i,j] for i in range(3) ) >= b_talep[j]\n",
        "  )\n",
        "\n",
        "#  Çöz\n",
        "m.optimize()"
      ],
      "metadata": {
        "colab": {
          "base_uri": "https://localhost:8080/"
        },
        "id": "CvCCbwAtZm23",
        "outputId": "458d84fa-2bfc-4370-f49f-1309355530ad"
      },
      "execution_count": 24,
      "outputs": [
        {
          "output_type": "stream",
          "name": "stdout",
          "text": [
            "Gurobi Optimizer version 12.0.0 build v12.0.0rc1 (linux64 - \"Ubuntu 22.04.3 LTS\")\n",
            "\n",
            "CPU model: Intel(R) Xeon(R) CPU @ 2.20GHz, instruction set [SSE2|AVX|AVX2]\n",
            "Thread count: 1 physical cores, 2 logical processors, using up to 2 threads\n",
            "\n",
            "Optimize a model with 7 rows, 12 columns and 24 nonzeros\n",
            "Model fingerprint: 0x5d5d1021\n",
            "Coefficient statistics:\n",
            "  Matrix range     [1e+00, 1e+00]\n",
            "  Objective range  [5e+00, 2e+01]\n",
            "  Bounds range     [0e+00, 0e+00]\n",
            "  RHS range        [2e+01, 5e+01]\n",
            "Presolve time: 0.01s\n",
            "Presolved: 7 rows, 12 columns, 24 nonzeros\n",
            "\n",
            "Iteration    Objective       Primal Inf.    Dual Inf.      Time\n",
            "       0    0.0000000e+00   1.250000e+02   0.000000e+00      0s\n",
            "       7    1.0200000e+03   0.000000e+00   0.000000e+00      0s\n",
            "\n",
            "Solved in 7 iterations and 0.01 seconds (0.00 work units)\n",
            "Optimal objective  1.020000000e+03\n"
          ]
        }
      ]
    },
    {
      "cell_type": "code",
      "source": [],
      "metadata": {
        "id": "y4k5cFr-bYo1"
      },
      "execution_count": null,
      "outputs": []
    }
  ]
}