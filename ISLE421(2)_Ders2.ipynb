{
  "nbformat": 4,
  "nbformat_minor": 0,
  "metadata": {
    "colab": {
      "provenance": [],
      "authorship_tag": "ABX9TyOzgpigSW4N05Q3Zw3TJzIL",
      "include_colab_link": true
    },
    "kernelspec": {
      "name": "python3",
      "display_name": "Python 3"
    },
    "language_info": {
      "name": "python"
    }
  },
  "cells": [
    {
      "cell_type": "markdown",
      "metadata": {
        "id": "view-in-github",
        "colab_type": "text"
      },
      "source": [
        "<a href=\"https://colab.research.google.com/github/MMBAYAR/GUZ-24_ISLE421/blob/main/ISLE421(2)_Ders2.ipynb\" target=\"_parent\"><img src=\"https://colab.research.google.com/assets/colab-badge.svg\" alt=\"Open In Colab\"/></a>"
      ]
    },
    {
      "cell_type": "code",
      "execution_count": null,
      "metadata": {
        "colab": {
          "base_uri": "https://localhost:8080/",
          "height": 141
        },
        "id": "sxKn2snaoyyS",
        "outputId": "75a1b4a6-e75b-4648-8266-b87e334ad1b6"
      },
      "outputs": [
        {
          "output_type": "error",
          "ename": "NameError",
          "evalue": "name 'Merhaba' is not defined",
          "traceback": [
            "\u001b[0;31m---------------------------------------------------------------------------\u001b[0m",
            "\u001b[0;31mNameError\u001b[0m                                 Traceback (most recent call last)",
            "\u001b[0;32m<ipython-input-1-a3e0f93f1538>\u001b[0m in \u001b[0;36m<cell line: 1>\u001b[0;34m()\u001b[0m\n\u001b[0;32m----> 1\u001b[0;31m \u001b[0mprint\u001b[0m\u001b[0;34m(\u001b[0m\u001b[0mMerhaba\u001b[0m\u001b[0;34m)\u001b[0m\u001b[0;34m\u001b[0m\u001b[0;34m\u001b[0m\u001b[0m\n\u001b[0m",
            "\u001b[0;31mNameError\u001b[0m: name 'Merhaba' is not defined"
          ]
        }
      ],
      "source": [
        "print(Merhaba)"
      ]
    },
    {
      "cell_type": "code",
      "source": [
        "#  GRUPLAYICI PYTHON NESNELERİ\n",
        "#    list()\n",
        "#    dict()\n",
        "\n",
        "#  Liste nesneleri\n",
        "#    bir listeyi yaratmak\n",
        "liste = list()  #  boş liste yaratmak için list() fonksiyonunu kullandım\n",
        "liste"
      ],
      "metadata": {
        "colab": {
          "base_uri": "https://localhost:8080/"
        },
        "id": "gW_GcvNgplkq",
        "outputId": "09587f5e-3e7b-49cd-f13a-1631b38ef6ef"
      },
      "execution_count": null,
      "outputs": [
        {
          "output_type": "execute_result",
          "data": {
            "text/plain": [
              "[]"
            ]
          },
          "metadata": {},
          "execution_count": 3
        }
      ]
    },
    {
      "cell_type": "code",
      "source": [
        "liste = []  #  boş liste yaratmak için [] kullandım\n",
        "liste"
      ],
      "metadata": {
        "colab": {
          "base_uri": "https://localhost:8080/"
        },
        "id": "-usj7QWuqr7T",
        "outputId": "283713f5-2e2a-40b8-ed31-930af3bf38f2"
      },
      "execution_count": null,
      "outputs": [
        {
          "output_type": "execute_result",
          "data": {
            "text/plain": [
              "[]"
            ]
          },
          "metadata": {},
          "execution_count": 4
        }
      ]
    },
    {
      "cell_type": "code",
      "source": [
        "#  Giapetto marangozhanesi probleminin verisi\n",
        "#    Amaç fonksiyonu katsayıları (c)\n",
        "c = [3.0, 2.0]\n",
        "c = [3, 2]\n",
        "\n",
        "#    Kısıt sağ taraf sabitleri (b)\n",
        "b = [100.0, 80.0, 40.0]\n",
        "b = [100, 80 ,40]\n",
        "\n",
        "#    Kısıt sol taraf katsayıları (A)\n",
        "#    tuplelist\n",
        "A = [\n",
        "    (2, 1),\n",
        "    (1, 1),\n",
        "    (1, 0),\n",
        "    ]"
      ],
      "metadata": {
        "id": "n3gjIOylrnhS"
      },
      "execution_count": null,
      "outputs": []
    },
    {
      "cell_type": "code",
      "source": [
        "#  ikinci amaç fonksiyonu katsayısı\n",
        "c[1]"
      ],
      "metadata": {
        "colab": {
          "base_uri": "https://localhost:8080/"
        },
        "id": "SL1ZTq8OvJxK",
        "outputId": "db476574-a123-4640-d181-88545d8eca77"
      },
      "execution_count": null,
      "outputs": [
        {
          "output_type": "execute_result",
          "data": {
            "text/plain": [
              "2"
            ]
          },
          "metadata": {},
          "execution_count": 10
        }
      ]
    },
    {
      "cell_type": "code",
      "source": [
        "#  birinci kısıtın sağ taraf sabiti\n",
        "b[0]"
      ],
      "metadata": {
        "colab": {
          "base_uri": "https://localhost:8080/"
        },
        "id": "jsMkAdx8vR5w",
        "outputId": "5f9c487f-e732-4bc9-ca59-a347d62d3936"
      },
      "execution_count": null,
      "outputs": [
        {
          "output_type": "execute_result",
          "data": {
            "text/plain": [
              "100"
            ]
          },
          "metadata": {},
          "execution_count": 11
        }
      ]
    },
    {
      "cell_type": "code",
      "source": [
        "#  ikinci kısıtın birinci karar değişkenine ait katsayısı\n",
        "A, A[1], A[1][0]"
      ],
      "metadata": {
        "colab": {
          "base_uri": "https://localhost:8080/"
        },
        "id": "RvcXZyVzvpk8",
        "outputId": "d602a199-8584-44f9-ec68-4228e725a7b7"
      },
      "execution_count": null,
      "outputs": [
        {
          "output_type": "execute_result",
          "data": {
            "text/plain": [
              "([(2, 1), (1, 1), (1, 0)], (1, 1), 1)"
            ]
          },
          "metadata": {},
          "execution_count": 15
        }
      ]
    },
    {
      "cell_type": "code",
      "source": [
        "#  gurobipy kütüphanesini bilgisayarıma kuruyorum\n",
        "!pip install gurobipy"
      ],
      "metadata": {
        "colab": {
          "base_uri": "https://localhost:8080/"
        },
        "id": "Vd9SRTigvupa",
        "outputId": "2fae1e74-b744-4e99-9ecb-f608dd60310e"
      },
      "execution_count": null,
      "outputs": [
        {
          "output_type": "stream",
          "name": "stdout",
          "text": [
            "Collecting gurobipy\n",
            "  Downloading gurobipy-11.0.3-cp310-cp310-manylinux2014_x86_64.manylinux_2_17_x86_64.whl.metadata (15 kB)\n",
            "Downloading gurobipy-11.0.3-cp310-cp310-manylinux2014_x86_64.manylinux_2_17_x86_64.whl (13.4 MB)\n",
            "\u001b[2K   \u001b[90m━━━━━━━━━━━━━━━━━━━━━━━━━━━━━━━━━━━━━━━━\u001b[0m \u001b[32m13.4/13.4 MB\u001b[0m \u001b[31m57.3 MB/s\u001b[0m eta \u001b[36m0:00:00\u001b[0m\n",
            "\u001b[?25hInstalling collected packages: gurobipy\n",
            "Successfully installed gurobipy-11.0.3\n"
          ]
        }
      ]
    },
    {
      "cell_type": "code",
      "source": [
        "#  gurobipy kütüphanesini oturuma çağırıyorum\n",
        "import gurobipy*"
      ],
      "metadata": {
        "colab": {
          "base_uri": "https://localhost:8080/",
          "height": 106
        },
        "id": "4LJfPWC7xD7N",
        "outputId": "10c53286-55a6-48ef-8f36-373a4275455b"
      },
      "execution_count": null,
      "outputs": [
        {
          "output_type": "error",
          "ename": "SyntaxError",
          "evalue": "invalid syntax (<ipython-input-17-31376aa65ae9>, line 2)",
          "traceback": [
            "\u001b[0;36m  File \u001b[0;32m\"<ipython-input-17-31376aa65ae9>\"\u001b[0;36m, line \u001b[0;32m2\u001b[0m\n\u001b[0;31m    import gurobipy*\u001b[0m\n\u001b[0m                   ^\u001b[0m\n\u001b[0;31mSyntaxError\u001b[0m\u001b[0;31m:\u001b[0m invalid syntax\n"
          ]
        }
      ]
    },
    {
      "cell_type": "code",
      "source": [
        "from gurobipy import*"
      ],
      "metadata": {
        "id": "tb1PfsZ-xsfH"
      },
      "execution_count": null,
      "outputs": []
    },
    {
      "cell_type": "code",
      "source": [
        "#  x1 adında ve değerlerini negatif olmayan reel sayılardan alan\n",
        "#  bir karar değişkeni tanımladım\n",
        "x1 = Model().addVar(vtype = 'c')\n",
        "\n",
        "#  x2 adında ve değerlerini negatif olmayan reel sayılardan alan\n",
        "#  bir karar değişkeni tanımladım\n",
        "x2 = Model().addVar(vtype = 'c')\n",
        "\n",
        "################################################################\n",
        "\n",
        "#  Amaç fonksiyonunu tanımlıyorum\n",
        "Model().setObjective(\n",
        "    quicksum( c[i]*x[i] for i in range( len(c) ) ),\n",
        "    GRB.MAXIMIZE\n",
        ")\n",
        "\n",
        "################################################################\n",
        "\n",
        "#  1. kısıtım\n",
        "Model.addConstr(\n",
        "    quicksum( A[0][i]*x[i] for i in range( len(x) ) ) <= b[0]\n",
        ")\n",
        "#  2. kısıtım\n",
        "Model.addConstr(\n",
        "    quicksum( A[1][i]*x[i] for i in range( len(x) ) ) <= b[1]\n",
        ")\n",
        "#  3. kısıtım\n",
        "Model.addConstr(\n",
        "    quicksum( A[2][i]*x[i] for i in range( len(x) ) ) <= b[2]\n",
        ")\n",
        "\n",
        "################################################################\n",
        "\n",
        "Model().optimize()"
      ],
      "metadata": {
        "colab": {
          "base_uri": "https://localhost:8080/",
          "height": 384
        },
        "id": "nWeMMOFbx5kz",
        "outputId": "0ffc1b38-5ae6-4a1c-f2bc-a772571c1e36"
      },
      "execution_count": null,
      "outputs": [
        {
          "output_type": "stream",
          "name": "stdout",
          "text": [
            "Restricted license - for non-production use only - expires 2025-11-24\n"
          ]
        },
        {
          "output_type": "error",
          "ename": "NameError",
          "evalue": "name 'x' is not defined",
          "traceback": [
            "\u001b[0;31m---------------------------------------------------------------------------\u001b[0m",
            "\u001b[0;31mNameError\u001b[0m                                 Traceback (most recent call last)",
            "\u001b[0;32m<ipython-input-19-0a3e815a077f>\u001b[0m in \u001b[0;36m<cell line: 12>\u001b[0;34m()\u001b[0m\n\u001b[1;32m     11\u001b[0m \u001b[0;31m#  Amaç fonksiyonunu tanımlıyorum\u001b[0m\u001b[0;34m\u001b[0m\u001b[0;34m\u001b[0m\u001b[0m\n\u001b[1;32m     12\u001b[0m Model().setObjective(\n\u001b[0;32m---> 13\u001b[0;31m     \u001b[0mquicksum\u001b[0m\u001b[0;34m(\u001b[0m \u001b[0mc\u001b[0m\u001b[0;34m[\u001b[0m\u001b[0mi\u001b[0m\u001b[0;34m]\u001b[0m\u001b[0;34m*\u001b[0m\u001b[0mx\u001b[0m\u001b[0;34m[\u001b[0m\u001b[0mi\u001b[0m\u001b[0;34m]\u001b[0m \u001b[0;32mfor\u001b[0m \u001b[0mi\u001b[0m \u001b[0;32min\u001b[0m \u001b[0mrange\u001b[0m\u001b[0;34m(\u001b[0m \u001b[0mlen\u001b[0m\u001b[0;34m(\u001b[0m\u001b[0mc\u001b[0m\u001b[0;34m)\u001b[0m \u001b[0;34m)\u001b[0m \u001b[0;34m)\u001b[0m\u001b[0;34m,\u001b[0m\u001b[0;34m\u001b[0m\u001b[0;34m\u001b[0m\u001b[0m\n\u001b[0m\u001b[1;32m     14\u001b[0m     \u001b[0mGRB\u001b[0m\u001b[0;34m.\u001b[0m\u001b[0mMAXIMIZE\u001b[0m\u001b[0;34m\u001b[0m\u001b[0;34m\u001b[0m\u001b[0m\n\u001b[1;32m     15\u001b[0m )\n",
            "\u001b[0;32msrc/gurobipy/gurobi.pxi\u001b[0m in \u001b[0;36mgurobipy.quicksum\u001b[0;34m()\u001b[0m\n",
            "\u001b[0;32m<ipython-input-19-0a3e815a077f>\u001b[0m in \u001b[0;36m<genexpr>\u001b[0;34m(.0)\u001b[0m\n\u001b[1;32m     11\u001b[0m \u001b[0;31m#  Amaç fonksiyonunu tanımlıyorum\u001b[0m\u001b[0;34m\u001b[0m\u001b[0;34m\u001b[0m\u001b[0m\n\u001b[1;32m     12\u001b[0m Model().setObjective(\n\u001b[0;32m---> 13\u001b[0;31m     \u001b[0mquicksum\u001b[0m\u001b[0;34m(\u001b[0m \u001b[0mc\u001b[0m\u001b[0;34m[\u001b[0m\u001b[0mi\u001b[0m\u001b[0;34m]\u001b[0m\u001b[0;34m*\u001b[0m\u001b[0mx\u001b[0m\u001b[0;34m[\u001b[0m\u001b[0mi\u001b[0m\u001b[0;34m]\u001b[0m \u001b[0;32mfor\u001b[0m \u001b[0mi\u001b[0m \u001b[0;32min\u001b[0m \u001b[0mrange\u001b[0m\u001b[0;34m(\u001b[0m \u001b[0mlen\u001b[0m\u001b[0;34m(\u001b[0m\u001b[0mc\u001b[0m\u001b[0;34m)\u001b[0m \u001b[0;34m)\u001b[0m \u001b[0;34m)\u001b[0m\u001b[0;34m,\u001b[0m\u001b[0;34m\u001b[0m\u001b[0;34m\u001b[0m\u001b[0m\n\u001b[0m\u001b[1;32m     14\u001b[0m     \u001b[0mGRB\u001b[0m\u001b[0;34m.\u001b[0m\u001b[0mMAXIMIZE\u001b[0m\u001b[0;34m\u001b[0m\u001b[0;34m\u001b[0m\u001b[0m\n\u001b[1;32m     15\u001b[0m )\n",
            "\u001b[0;31mNameError\u001b[0m: name 'x' is not defined"
          ]
        }
      ]
    },
    {
      "cell_type": "code",
      "source": [
        "m = Model()\n",
        "#  x1 adında ve değerlerini negatif olmayan reel sayılardan alan\n",
        "#  bir karar değişkeni tanımladım\n",
        "x1 = m.addVar(vtype = 'c')\n",
        "\n",
        "#  x2 adında ve değerlerini negatif olmayan reel sayılardan alan\n",
        "#  bir karar değişkeni tanımladım\n",
        "x2 = m.addVar(vtype = 'c')\n",
        "\n",
        "################################################################\n",
        "\n",
        "#  Amaç fonksiyonunu tanımlıyorum\n",
        "m.setObjective(\n",
        "    c[0]*x1 + c[1]*x2,\n",
        "    GRB.MAXIMIZE\n",
        ")\n",
        "\n",
        "################################################################\n",
        "\n",
        "#  1. kısıtım\n",
        "m.addConstr(\n",
        "    x1*A[0][0] + x2*A[0][1] <= b[0]\n",
        ")\n",
        "#  2. kısıtım\n",
        "m.addConstr(\n",
        "    x1*A[1][0] + x2*A[1][1] <= b[1]\n",
        ")\n",
        "#  3. kısıtım\n",
        "m.addConstr(\n",
        "    x1*A[2][0] + x2*A[2][1] <= b[2]\n",
        ")\n",
        "\n",
        "################################################################\n",
        "\n",
        "m.optimize()"
      ],
      "metadata": {
        "colab": {
          "base_uri": "https://localhost:8080/"
        },
        "id": "vc7dwteQyWhg",
        "outputId": "45945633-001a-4554-f6d8-46ccfc198ec3"
      },
      "execution_count": null,
      "outputs": [
        {
          "output_type": "stream",
          "name": "stdout",
          "text": [
            "Gurobi Optimizer version 11.0.3 build v11.0.3rc0 (linux64 - \"Ubuntu 22.04.3 LTS\")\n",
            "\n",
            "CPU model: Intel(R) Xeon(R) CPU @ 2.20GHz, instruction set [SSE2|AVX|AVX2]\n",
            "Thread count: 1 physical cores, 2 logical processors, using up to 2 threads\n",
            "\n",
            "Optimize a model with 3 rows, 2 columns and 5 nonzeros\n",
            "Model fingerprint: 0xbbda4282\n",
            "Coefficient statistics:\n",
            "  Matrix range     [1e+00, 2e+00]\n",
            "  Objective range  [2e+00, 3e+00]\n",
            "  Bounds range     [0e+00, 0e+00]\n",
            "  RHS range        [4e+01, 1e+02]\n",
            "Presolve removed 1 rows and 0 columns\n",
            "Presolve time: 0.02s\n",
            "Presolved: 2 rows, 2 columns, 4 nonzeros\n",
            "\n",
            "Iteration    Objective       Primal Inf.    Dual Inf.      Time\n",
            "       0    2.0000000e+02   4.989875e+00   0.000000e+00      0s\n",
            "       2    1.8000000e+02   0.000000e+00   0.000000e+00      0s\n",
            "\n",
            "Solved in 2 iterations and 0.03 seconds (0.00 work units)\n",
            "Optimal objective  1.800000000e+02\n"
          ]
        }
      ]
    },
    {
      "cell_type": "code",
      "source": [
        "#  Karar değişkenlerinin optimal değerleri\n",
        "x1.x"
      ],
      "metadata": {
        "colab": {
          "base_uri": "https://localhost:8080/"
        },
        "id": "cer6aChp8qwx",
        "outputId": "82788ce8-fcc8-4aa2-9daf-5cc822d8dc66"
      },
      "execution_count": null,
      "outputs": [
        {
          "output_type": "execute_result",
          "data": {
            "text/plain": [
              "20.0"
            ]
          },
          "metadata": {},
          "execution_count": 22
        }
      ]
    },
    {
      "cell_type": "code",
      "source": [
        "x2.x"
      ],
      "metadata": {
        "colab": {
          "base_uri": "https://localhost:8080/"
        },
        "id": "78dF4kfY_dyY",
        "outputId": "39a46c2e-c18f-44ab-853e-e2442e7aeb20"
      },
      "execution_count": null,
      "outputs": [
        {
          "output_type": "execute_result",
          "data": {
            "text/plain": [
              "60.0"
            ]
          },
          "metadata": {},
          "execution_count": 23
        }
      ]
    },
    {
      "cell_type": "code",
      "source": [
        "m = Model()\n",
        "#  x adında bir karar değişkenleri vektörü yaratıyorum\n",
        "x = m.addVars( len(c), vtype = 'c' )\n",
        "\n",
        "################################################################\n",
        "\n",
        "#  Amaç fonksiyonunu tanımlıyorum\n",
        "m.setObjective(\n",
        "    quicksum( c[i]*x[i] for i in range( len(c) ) ),\n",
        "    GRB.MAXIMIZE\n",
        ")\n",
        "\n",
        "################################################################\n",
        "\n",
        "#  1. kısıtım\n",
        "m.addConstr(\n",
        "    quicksum( A[0][i]*x[i] for i in range( len(x) ) ) <= b[0]\n",
        ")\n",
        "#  2. kısıtım\n",
        "m.addConstr(\n",
        "    quicksum( A[1][i]*x[i] for i in range( len(x) ) ) <= b[1]\n",
        ")\n",
        "#  3. kısıtım\n",
        "m.addConstr(\n",
        "    quicksum( A[2][i]*x[i] for i in range( len(x) ) ) <= b[2]\n",
        ")\n",
        "\n",
        "################################################################\n",
        "\n",
        "m.optimize()"
      ],
      "metadata": {
        "colab": {
          "base_uri": "https://localhost:8080/"
        },
        "id": "f3DHFPTi_e0Z",
        "outputId": "f81c5c71-bb9c-45b2-feea-e5a2b5ee70c2"
      },
      "execution_count": null,
      "outputs": [
        {
          "output_type": "stream",
          "name": "stdout",
          "text": [
            "Gurobi Optimizer version 11.0.3 build v11.0.3rc0 (linux64 - \"Ubuntu 22.04.3 LTS\")\n",
            "\n",
            "CPU model: Intel(R) Xeon(R) CPU @ 2.20GHz, instruction set [SSE2|AVX|AVX2]\n",
            "Thread count: 1 physical cores, 2 logical processors, using up to 2 threads\n",
            "\n",
            "Optimize a model with 3 rows, 2 columns and 5 nonzeros\n",
            "Model fingerprint: 0xbbda4282\n",
            "Coefficient statistics:\n",
            "  Matrix range     [1e+00, 2e+00]\n",
            "  Objective range  [2e+00, 3e+00]\n",
            "  Bounds range     [0e+00, 0e+00]\n",
            "  RHS range        [4e+01, 1e+02]\n",
            "Presolve removed 1 rows and 0 columns\n",
            "Presolve time: 0.02s\n",
            "Presolved: 2 rows, 2 columns, 4 nonzeros\n",
            "\n",
            "Iteration    Objective       Primal Inf.    Dual Inf.      Time\n",
            "       0    2.0000000e+02   4.989875e+00   0.000000e+00      0s\n",
            "       2    1.8000000e+02   0.000000e+00   0.000000e+00      0s\n",
            "\n",
            "Solved in 2 iterations and 0.02 seconds (0.00 work units)\n",
            "Optimal objective  1.800000000e+02\n"
          ]
        }
      ]
    },
    {
      "cell_type": "code",
      "source": [
        "[ x[i].x for i in range( len(c) )]"
      ],
      "metadata": {
        "colab": {
          "base_uri": "https://localhost:8080/"
        },
        "id": "vsQfNXMzAaVW",
        "outputId": "6133da62-3314-4455-e97d-86f2bcfbe991"
      },
      "execution_count": null,
      "outputs": [
        {
          "output_type": "execute_result",
          "data": {
            "text/plain": [
              "[20.0, 60.0]"
            ]
          },
          "metadata": {},
          "execution_count": 25
        }
      ]
    },
    {
      "cell_type": "code",
      "source": [],
      "metadata": {
        "id": "LA_mMUxsA7VS"
      },
      "execution_count": null,
      "outputs": []
    }
  ]
}