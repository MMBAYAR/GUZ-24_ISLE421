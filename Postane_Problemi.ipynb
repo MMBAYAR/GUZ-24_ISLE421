{
  "nbformat": 4,
  "nbformat_minor": 0,
  "metadata": {
    "colab": {
      "provenance": [],
      "authorship_tag": "ABX9TyNksz5Tk3axbUh7k0vRytEJ",
      "include_colab_link": true
    },
    "kernelspec": {
      "name": "python3",
      "display_name": "Python 3"
    },
    "language_info": {
      "name": "python"
    }
  },
  "cells": [
    {
      "cell_type": "markdown",
      "metadata": {
        "id": "view-in-github",
        "colab_type": "text"
      },
      "source": [
        "<a href=\"https://colab.research.google.com/github/MMBAYAR/GUZ-24_ISLE421/blob/main/Postane_Problemi.ipynb\" target=\"_parent\"><img src=\"https://colab.research.google.com/assets/colab-badge.svg\" alt=\"Open In Colab\"/></a>"
      ]
    },
    {
      "cell_type": "code",
      "execution_count": 1,
      "metadata": {
        "colab": {
          "base_uri": "https://localhost:8080/"
        },
        "id": "DSd2NEIvL7gy",
        "outputId": "ad06a387-dbfd-4e92-84e2-30f95aefb200"
      },
      "outputs": [
        {
          "output_type": "stream",
          "name": "stdout",
          "text": [
            "Collecting gurobipy\n",
            "  Downloading gurobipy-12.0.0-cp310-cp310-manylinux2014_x86_64.manylinux_2_17_x86_64.whl.metadata (15 kB)\n",
            "Downloading gurobipy-12.0.0-cp310-cp310-manylinux2014_x86_64.manylinux_2_17_x86_64.whl (14.4 MB)\n",
            "\u001b[2K   \u001b[90m━━━━━━━━━━━━━━━━━━━━━━━━━━━━━━━━━━━━━━━━\u001b[0m \u001b[32m14.4/14.4 MB\u001b[0m \u001b[31m28.5 MB/s\u001b[0m eta \u001b[36m0:00:00\u001b[0m\n",
            "\u001b[?25hInstalling collected packages: gurobipy\n",
            "Successfully installed gurobipy-12.0.0\n"
          ]
        }
      ],
      "source": [
        "#  gurobipy'ı kuruyorum\n",
        "!pip install gurobipy\n",
        "#  gurobipy'ı çalıştır\n",
        "from gurobipy import*"
      ]
    },
    {
      "cell_type": "code",
      "source": [
        "#  Veri\n",
        "#  c\n",
        "c = [1, 1, 1, 1, 1, 1, 1]\n",
        "#  b\n",
        "b = [17, 13, 15, 19, 14, 16, 11]\n",
        "#  A\n",
        "A = [(1, 0, 0, 1, 1, 1, 1),\n",
        "     (1, 1, 0, 0, 1, 1, 1),\n",
        "     (1, 1, 1, 0, 0, 1, 1),\n",
        "     (1, 1, 1, 1, 0, 0, 1),\n",
        "     (1, 1, 1, 1, 1, 0, 0),\n",
        "     (0, 1, 1, 1, 1, 1, 0),\n",
        "     (0, 0, 1, 1, 1, 1, 1)]"
      ],
      "metadata": {
        "id": "qsJlNigrL8Ys"
      },
      "execution_count": 2,
      "outputs": []
    },
    {
      "cell_type": "code",
      "source": [
        "m = Model()\n",
        "\n",
        "x = m.addVars( len(c), vtype = 'i' )\n",
        "\n",
        "m.setObjective(\n",
        "              quicksum( c[j]*x[j] for j in range(len(c)) ), #  x.sum()\n",
        "              GRB.MINIMIZE\n",
        "              )\n",
        "\n",
        "for i in range(len(A)):\n",
        "  m.addConstr(\n",
        "  quicksum( A[i][j]*x[j] for j in range(len(c)) ) >= b[i]\n",
        "  )\n",
        "\n",
        "m.optimize()"
      ],
      "metadata": {
        "colab": {
          "base_uri": "https://localhost:8080/"
        },
        "id": "LUKVByAsNVo3",
        "outputId": "fa7e7667-36c2-45a2-864d-46eac9d3b069"
      },
      "execution_count": 11,
      "outputs": [
        {
          "output_type": "stream",
          "name": "stdout",
          "text": [
            "Gurobi Optimizer version 12.0.0 build v12.0.0rc1 (linux64 - \"Ubuntu 22.04.3 LTS\")\n",
            "\n",
            "CPU model: Intel(R) Xeon(R) CPU @ 2.20GHz, instruction set [SSE2|AVX|AVX2]\n",
            "Thread count: 1 physical cores, 2 logical processors, using up to 2 threads\n",
            "\n",
            "Optimize a model with 7 rows, 7 columns and 35 nonzeros\n",
            "Model fingerprint: 0xf4fc9c66\n",
            "Variable types: 0 continuous, 7 integer (0 binary)\n",
            "Coefficient statistics:\n",
            "  Matrix range     [1e+00, 1e+00]\n",
            "  Objective range  [1e+00, 1e+00]\n",
            "  Bounds range     [0e+00, 0e+00]\n",
            "  RHS range        [1e+01, 2e+01]\n",
            "Found heuristic solution: objective 35.0000000\n",
            "Presolve time: 0.00s\n",
            "Presolved: 7 rows, 7 columns, 35 nonzeros\n",
            "Variable types: 0 continuous, 7 integer (0 binary)\n",
            "\n",
            "Root relaxation: objective 2.233333e+01, 5 iterations, 0.00 seconds (0.00 work units)\n",
            "\n",
            "    Nodes    |    Current Node    |     Objective Bounds      |     Work\n",
            " Expl Unexpl |  Obj  Depth IntInf | Incumbent    BestBd   Gap | It/Node Time\n",
            "\n",
            "     0     0   22.33333    0    4   35.00000   22.33333  36.2%     -    0s\n",
            "H    0     0                      23.0000000   22.33333  2.90%     -    0s\n",
            "     0     0   22.33333    0    4   23.00000   22.33333  2.90%     -    0s\n",
            "\n",
            "Explored 1 nodes (5 simplex iterations) in 0.04 seconds (0.00 work units)\n",
            "Thread count was 2 (of 2 available processors)\n",
            "\n",
            "Solution count 2: 23 35 \n",
            "\n",
            "Optimal solution found (tolerance 1.00e-04)\n",
            "Best objective 2.300000000000e+01, best bound 2.300000000000e+01, gap 0.0000%\n"
          ]
        }
      ]
    },
    {
      "cell_type": "code",
      "source": [
        "[x[j].x for j in range(len(c))]"
      ],
      "metadata": {
        "colab": {
          "base_uri": "https://localhost:8080/"
        },
        "id": "WTpe0KabO2Bk",
        "outputId": "79ff30f2-2a3f-4d0d-91ee-320e6ec9fd6d"
      },
      "execution_count": 12,
      "outputs": [
        {
          "output_type": "execute_result",
          "data": {
            "text/plain": [
              "[7.0, 5.0, 1.0, 7.0, -0.0, 3.0, -0.0]"
            ]
          },
          "metadata": {},
          "execution_count": 12
        }
      ]
    },
    {
      "cell_type": "code",
      "source": [
        "m.getAttr( 'RC' )"
      ],
      "metadata": {
        "colab": {
          "base_uri": "https://localhost:8080/",
          "height": 211
        },
        "id": "j_sGDdGCPVzb",
        "outputId": "1759a401-0ca1-4788-c8c4-b934a3cdc4e1"
      },
      "execution_count": 14,
      "outputs": [
        {
          "output_type": "error",
          "ename": "GurobiError",
          "evalue": "Unable to retrieve attribute 'RC'",
          "traceback": [
            "\u001b[0;31m---------------------------------------------------------------------------\u001b[0m",
            "\u001b[0;31mGurobiError\u001b[0m                               Traceback (most recent call last)",
            "\u001b[0;32m<ipython-input-14-7d189cb3e3bc>\u001b[0m in \u001b[0;36m<cell line: 1>\u001b[0;34m()\u001b[0m\n\u001b[0;32m----> 1\u001b[0;31m \u001b[0mm\u001b[0m\u001b[0;34m.\u001b[0m\u001b[0mgetAttr\u001b[0m\u001b[0;34m(\u001b[0m \u001b[0;34m'RC'\u001b[0m \u001b[0;34m)\u001b[0m\u001b[0;34m\u001b[0m\u001b[0;34m\u001b[0m\u001b[0m\n\u001b[0m",
            "\u001b[0;32msrc/gurobipy/_model.pyx\u001b[0m in \u001b[0;36mgurobipy._model.Model.getAttr\u001b[0;34m()\u001b[0m\n",
            "\u001b[0;32msrc/gurobipy/_attrutil.pyx\u001b[0m in \u001b[0;36mgurobipy._attrutil._gettypedattrlist\u001b[0;34m()\u001b[0m\n",
            "\u001b[0;31mGurobiError\u001b[0m: Unable to retrieve attribute 'RC'"
          ]
        }
      ]
    },
    {
      "cell_type": "code",
      "source": [
        "for i in range(len(A)):\n",
        "  print(\n",
        "  quicksum( A[i][j]*x[j].x for j in range(len(c)) ) , b[i]\n",
        "  )"
      ],
      "metadata": {
        "colab": {
          "base_uri": "https://localhost:8080/"
        },
        "id": "xQktsvdcQqDY",
        "outputId": "5a1f6e87-3f9b-4df3-c20e-324a11257496"
      },
      "execution_count": 15,
      "outputs": [
        {
          "output_type": "stream",
          "name": "stdout",
          "text": [
            "17.0 17\n",
            "15.0 13\n",
            "16.0 15\n",
            "20.0 19\n",
            "20.0 14\n",
            "16.0 16\n",
            "11.0 11\n"
          ]
        }
      ]
    },
    {
      "cell_type": "markdown",
      "source": [
        "#  yarı zamanlı çalışanlar; yarım ücret alırlar, ardışık iki gün çalışıp 5 gün dinlenirler."
      ],
      "metadata": {
        "id": "dyRBb5RuS67w"
      }
    },
    {
      "cell_type": "code",
      "source": [
        "#  Veri\n",
        "#  c\n",
        "c = [1, 1, 1, 1, 1, 1, 1,                 #  x'lerin katsayıları\n",
        "     0.5, 0.5, 0.5, 0.5, 0.5, 0.5, 0.5]   #  y'lerin katsayıları\n",
        "#  b\n",
        "b = [17, 13, 15, 19, 14, 16, 11]\n",
        "#  A\n",
        "A = [(1, 0, 0, 1, 1, 1, 1,                #  x'lerin katsayıları\n",
        "      1, 0, 0, 0, 0, 0, 1),               #  y'lerin katsayıları\n",
        "     (1, 1, 0, 0, 1, 1, 1,\n",
        "      1, 1, 0, 0, 0, 0, 0),\n",
        "     (1, 1, 1, 0, 0, 1, 1,\n",
        "      0, 1, 1, 0, 0, 0, 0),\n",
        "     (1, 1, 1, 1, 0, 0, 1,\n",
        "      0, 0, 1, 1, 0, 0, 0),\n",
        "     (1, 1, 1, 1, 1, 0, 0,\n",
        "      0, 0, 0, 1, 1, 0, 0),\n",
        "     (0, 1, 1, 1, 1, 1, 0,\n",
        "      0, 0, 0, 0, 1, 1, 0),\n",
        "     (0, 0, 1, 1, 1, 1, 1,\n",
        "      0, 0, 0, 0, 0, 1, 1)]"
      ],
      "metadata": {
        "id": "n-iSUK2vRQAC"
      },
      "execution_count": 16,
      "outputs": []
    },
    {
      "cell_type": "code",
      "source": [
        "m = Model()\n",
        "\n",
        "x = m.addVars( len(c), vtype = 'c' )\n",
        "\n",
        "m.setObjective(\n",
        "              quicksum( c[j]*x[j] for j in range(len(c)) ), #  x.sum()\n",
        "              GRB.MINIMIZE\n",
        "              )\n",
        "\n",
        "for i in range(len(A)):\n",
        "  m.addConstr(\n",
        "  quicksum( A[i][j]*x[j] for j in range(len(c)) ) >= b[i]\n",
        "  )\n",
        "\n",
        "m.optimize()"
      ],
      "metadata": {
        "colab": {
          "base_uri": "https://localhost:8080/"
        },
        "id": "iksRWVtFUur7",
        "outputId": "6af8b40f-84d4-4f5e-9d74-46c5c9c2a4d3"
      },
      "execution_count": 17,
      "outputs": [
        {
          "output_type": "stream",
          "name": "stdout",
          "text": [
            "Gurobi Optimizer version 12.0.0 build v12.0.0rc1 (linux64 - \"Ubuntu 22.04.3 LTS\")\n",
            "\n",
            "CPU model: Intel(R) Xeon(R) CPU @ 2.20GHz, instruction set [SSE2|AVX|AVX2]\n",
            "Thread count: 1 physical cores, 2 logical processors, using up to 2 threads\n",
            "\n",
            "Optimize a model with 7 rows, 14 columns and 49 nonzeros\n",
            "Model fingerprint: 0x84d4d02d\n",
            "Coefficient statistics:\n",
            "  Matrix range     [1e+00, 1e+00]\n",
            "  Objective range  [5e-01, 1e+00]\n",
            "  Bounds range     [0e+00, 0e+00]\n",
            "  RHS range        [1e+01, 2e+01]\n",
            "Presolve time: 0.03s\n",
            "Presolved: 7 rows, 14 columns, 49 nonzeros\n",
            "\n",
            "Iteration    Objective       Primal Inf.    Dual Inf.      Time\n",
            "       0    0.0000000e+00   1.050000e+02   0.000000e+00      0s\n",
            "       6    2.2000000e+01   0.000000e+00   0.000000e+00      0s\n",
            "\n",
            "Solved in 6 iterations and 0.04 seconds (0.00 work units)\n",
            "Optimal objective  2.200000000e+01\n"
          ]
        }
      ]
    },
    {
      "cell_type": "code",
      "source": [
        "[x[j].x for j in range(len(c))]"
      ],
      "metadata": {
        "colab": {
          "base_uri": "https://localhost:8080/"
        },
        "id": "iYiSmbbHU44p",
        "outputId": "8ec22ef4-deb8-45e4-de67-95179b6983b1"
      },
      "execution_count": 18,
      "outputs": [
        {
          "output_type": "execute_result",
          "data": {
            "text/plain": [
              "[2.0, 4.0, 0.0, 8.0, 0.0, 4.0, 0.0, 3.0, 0.0, 5.0, 0.0, 0.0, 0.0, 0.0]"
            ]
          },
          "metadata": {},
          "execution_count": 18
        }
      ]
    },
    {
      "cell_type": "code",
      "source": [],
      "metadata": {
        "id": "7z1l9NVRU9rZ"
      },
      "execution_count": null,
      "outputs": []
    }
  ]
}