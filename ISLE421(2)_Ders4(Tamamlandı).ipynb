{
  "nbformat": 4,
  "nbformat_minor": 0,
  "metadata": {
    "colab": {
      "provenance": [],
      "authorship_tag": "ABX9TyOKAdYAWHRVHhqyydlc49Nq",
      "include_colab_link": true
    },
    "kernelspec": {
      "name": "python3",
      "display_name": "Python 3"
    },
    "language_info": {
      "name": "python"
    }
  },
  "cells": [
    {
      "cell_type": "markdown",
      "metadata": {
        "id": "view-in-github",
        "colab_type": "text"
      },
      "source": [
        "<a href=\"https://colab.research.google.com/github/MMBAYAR/GUZ-24_ISLE421/blob/main/ISLE421(2)_Ders4(Tamamland%C4%B1).ipynb\" target=\"_parent\"><img src=\"https://colab.research.google.com/assets/colab-badge.svg\" alt=\"Open In Colab\"/></a>"
      ]
    },
    {
      "cell_type": "code",
      "execution_count": 1,
      "metadata": {
        "colab": {
          "base_uri": "https://localhost:8080/"
        },
        "id": "YjtAme-V02rg",
        "outputId": "a63e64ab-3f68-4163-803a-2678ab2defd7"
      },
      "outputs": [
        {
          "output_type": "stream",
          "name": "stdout",
          "text": [
            "Collecting gurobipy\n",
            "  Downloading gurobipy-11.0.3-cp310-cp310-manylinux2014_x86_64.manylinux_2_17_x86_64.whl.metadata (15 kB)\n",
            "Downloading gurobipy-11.0.3-cp310-cp310-manylinux2014_x86_64.manylinux_2_17_x86_64.whl (13.4 MB)\n",
            "\u001b[2K   \u001b[90m━━━━━━━━━━━━━━━━━━━━━━━━━━━━━━━━━━━━━━━━\u001b[0m \u001b[32m13.4/13.4 MB\u001b[0m \u001b[31m49.9 MB/s\u001b[0m eta \u001b[36m0:00:00\u001b[0m\n",
            "\u001b[?25hInstalling collected packages: gurobipy\n",
            "Successfully installed gurobipy-11.0.3\n"
          ]
        }
      ],
      "source": [
        "!pip install gurobipy"
      ]
    },
    {
      "cell_type": "code",
      "source": [
        "from gurobipy import*"
      ],
      "metadata": {
        "id": "VW4zjhKI1Cmv"
      },
      "execution_count": 2,
      "outputs": []
    },
    {
      "cell_type": "code",
      "source": [
        "#  Veri\n",
        "#    Satış fiyatları\n",
        "fiyat = [(70,60,50),\n",
        "         (70,60,50),\n",
        "         (70,60,50)]\n",
        "\n",
        "hmmal = [(45,45,45),\n",
        "         (35,35,35),\n",
        "         (25,25,25)]\n",
        "\n",
        "üsmal = [(4,4,4),\n",
        "         (4,4,4),\n",
        "         (4,4,4)]\n",
        "\n",
        "rhmal = [1,1,1]\n",
        "\n",
        "#...\n",
        "#   Tedarik kısıtları\n",
        "tedsağ = [5000,5000,5000]\n",
        "rafkapsağ = [14000]\n",
        "talepsağ = [3000,2000,1000]\n",
        "\n",
        "tedsol = [\n",
        "          [(1,1,1),\n",
        "          (0,0,0),\n",
        "          (0,0,0)],\n",
        "          [(0,0,0),\n",
        "           (1,1,1),\n",
        "           (0,0,0)],\n",
        "          [(0,0,0),\n",
        "           (0,0,0),\n",
        "           (1,1,1)]\n",
        "        ]\n",
        "\n",
        "rafkapsol = [(1,1,1),\n",
        "             (1,1,1),\n",
        "             (1,1,1)]\n",
        "\n",
        "tlpsol = [\n",
        "          [(1,0,0),\n",
        "          (1,0,0),\n",
        "          (1,0,0,)],\n",
        "          [(0,1,0),\n",
        "           (0,1,0),\n",
        "           (0,1,0)],\n",
        "          [(0,0,1),\n",
        "           (0,0,1),\n",
        "           (0,0,1)]\n",
        "        ]\n",
        "\n",
        "tlp_y = [10,10,10]\n",
        "\n",
        "oktan_sol_pay = [\n",
        "    [(12,0,0),\n",
        "     (6,0,0),\n",
        "     (8,0,0)],\n",
        "    [(0,12,0),\n",
        "     (0,6,0),\n",
        "     (0,8,0)],\n",
        "    [(0,0,12),\n",
        "     (0,0,6),\n",
        "     (0,0,8)]\n",
        "]\n",
        "\n",
        "oktan_sol_payda = [\n",
        "    [(10,0,0),\n",
        "     (10,0,0),\n",
        "     (10,0,0)],\n",
        "    [(0,8,0),\n",
        "     (0,8,0),\n",
        "     (0,8,0)],\n",
        "    [(0,0,6),\n",
        "     (0,0,6),\n",
        "     (0,0,6)]\n",
        "]\n",
        "\n",
        "kükürt_sol_pay = [\n",
        "    [(0.005,0,0),\n",
        "     (0.02,0,0),\n",
        "     (0.03,0,0)],\n",
        "    [(0,0.005,0),\n",
        "     (0,0.02,0),\n",
        "     (0,0.03,0)],\n",
        "    [(0,0,0.005),\n",
        "     (0,0,0.02),\n",
        "     (0,0,0.03)]\n",
        "]\n",
        "\n",
        "kükürt_sol_payda = [\n",
        "    [(0.01,0,0),\n",
        "     (0.01,0,0),\n",
        "     (0.01,0,0)],\n",
        "    [(0,0.005,0),\n",
        "     (0,0.005,0),\n",
        "     (0,0.005,0)],\n",
        "    [(0,0,0.01),\n",
        "     (0,0,0.01),\n",
        "     (0,0,0.01)]\n",
        "]\n",
        "\n",
        "oktan_sağ = [0,0,0]\n",
        "\n",
        "kükürt_sağ = [0,0,0]"
      ],
      "metadata": {
        "id": "Hv3pAavS1ZYU"
      },
      "execution_count": 22,
      "outputs": []
    },
    {
      "cell_type": "code",
      "source": [
        "len(tedsol)"
      ],
      "metadata": {
        "colab": {
          "base_uri": "https://localhost:8080/"
        },
        "id": "3z_Cgw6AH1P6",
        "outputId": "f330e7a9-1630-44d0-f04d-38575d3e39b1"
      },
      "execution_count": 23,
      "outputs": [
        {
          "output_type": "execute_result",
          "data": {
            "text/plain": [
              "3"
            ]
          },
          "metadata": {},
          "execution_count": 23
        }
      ]
    },
    {
      "cell_type": "code",
      "source": [
        "m = Model()\n",
        "\n",
        "#  Karar değişkenleri\n",
        "x = m.addVars(len(fiyat),                   #  i'lerimi izlemek için fiyat listesindeki demet sayısını aldım (satır sayısını, hm sayısını)\n",
        "              len(fiyat[0]), vtype = 'c')   #  j'lerimi izlemek için fiyat listesindeki herhangi demetin eleman sayısını aldım (sütün sayısını, ürün sayısını)\n",
        "\n",
        "y = m.addVars(len(fiyat[0]), vtype = 'c')   #  j'lerimi ...\n",
        "\n",
        "#  Amaç fonksiyonu\n",
        "#hasılat = quicksum( fiyat[i][j]*x[i,j] for (i,j) in x.keys() )\n",
        "hasılat = quicksum( fiyat[i][j]*x[i,j] for i in range(len(fiyat)) for j in range(len(fiyat[0])) )\n",
        "hm_alım_maliyeti = quicksum( hmmal[i][j]*x[i,j] for i in range(len(fiyat)) for j in range(len(fiyat[0])) )\n",
        "üs_maliyeti = quicksum( üsmal[i][j]*x[i,j] for i in range(len(fiyat)) for j in range(len(fiyat[0])) )\n",
        "reklam_maliyeti = quicksum( rhmal[j]*y[j] for j in range(len(fiyat[0])) )\n",
        "\n",
        "m.setObjective( hasılat - hm_alım_maliyeti - üs_maliyeti - reklam_maliyeti , GRB.MAXIMIZE )\n",
        "\n",
        "#  Kısıtlar\n",
        "#    Tedarik Kısıtları\n",
        "for k in range(len(tedsol)):\n",
        "  m.addConstr(\n",
        "  quicksum( tedsol[k][i][j]*x[i,j] for i in range(len(fiyat)) for j in range(len(fiyat[0])) ) <= tedsağ[k]\n",
        "  )\n",
        "\n",
        "#    Kapasite Kısıtı\n",
        "m.addConstr(\n",
        "quicksum( rafkapsol[i][j]*x[i,j] for i in range(len(fiyat)) for j in range(len(fiyat[0])) ) <= rafkapsağ[0]\n",
        ")\n",
        "\n",
        "#    Talep Kısıtları\n",
        "for k in range(len(tedsol)):\n",
        "  m.addConstr(\n",
        "  quicksum( tlpsol[k][i][j]*x[i,j] for i in range(len(fiyat)) for j in range(len(fiyat[0])) ) <= talepsağ[k] + tlp_y[k]*y[k]\n",
        "  )\n",
        "\n",
        "#    Oktan Kıstları\n",
        "for k in range(len(tedsol)):\n",
        "  m.addConstr(\n",
        "  quicksum( oktan_sol_pay[k][i][j]*x[i,j] for i in range(len(fiyat)) for j in range(len(fiyat[0])) )\n",
        "  >=\n",
        "  oktan_sağ[k] + quicksum( oktan_sol_payda[k][i][j]*x[i,j] for i in range(len(fiyat)) for j in range(len(fiyat[0])) )\n",
        "  )\n",
        "\n",
        "#    Kükürt Kıstları\n",
        "for k in range(len(tedsol)):\n",
        "  m.addConstr(\n",
        "  quicksum( kükürt_sol_pay[k][i][j]*x[i,j] for i in range(len(fiyat)) for j in range(len(fiyat[0])) )\n",
        "  <=\n",
        "  kükürt_sağ[k] + quicksum( kükürt_sol_payda[k][i][j]*x[i,j] for i in range(len(fiyat)) for j in range(len(fiyat[0])) )\n",
        "  )\n",
        "\n",
        "#  Çözdürme\n",
        "m.optimize()"
      ],
      "metadata": {
        "colab": {
          "base_uri": "https://localhost:8080/"
        },
        "id": "KLXFUlCn2u9l",
        "outputId": "14c332c4-dfdc-4726-b7ed-85100fc5e181"
      },
      "execution_count": 24,
      "outputs": [
        {
          "output_type": "stream",
          "name": "stdout",
          "text": [
            "Gurobi Optimizer version 11.0.3 build v11.0.3rc0 (linux64 - \"Ubuntu 22.04.3 LTS\")\n",
            "\n",
            "CPU model: Intel(R) Xeon(R) CPU @ 2.20GHz, instruction set [SSE2|AVX|AVX2]\n",
            "Thread count: 1 physical cores, 2 logical processors, using up to 2 threads\n",
            "\n",
            "Optimize a model with 13 rows, 12 columns and 45 nonzeros\n",
            "Model fingerprint: 0xc2ec5195\n",
            "Coefficient statistics:\n",
            "  Matrix range     [5e-03, 1e+01]\n",
            "  Objective range  [1e+00, 4e+01]\n",
            "  Bounds range     [0e+00, 0e+00]\n",
            "  RHS range        [1e+03, 1e+04]\n",
            "Presolve removed 4 rows and 2 columns\n",
            "Presolve time: 0.01s\n",
            "Presolved: 9 rows, 10 columns, 31 nonzeros\n",
            "\n",
            "Iteration    Objective       Primal Inf.    Dual Inf.      Time\n",
            "       0    3.1140129e+05   2.421684e+03   0.000000e+00      0s\n",
            "       4    1.8205000e+05   0.000000e+00   0.000000e+00      0s\n",
            "\n",
            "Solved in 4 iterations and 0.02 seconds (0.00 work units)\n",
            "Optimal objective  1.820500000e+05\n"
          ]
        }
      ]
    },
    {
      "cell_type": "code",
      "source": [],
      "metadata": {
        "id": "lvKa2TVZ6huw"
      },
      "execution_count": null,
      "outputs": []
    }
  ]
}