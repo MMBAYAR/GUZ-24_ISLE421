{
  "nbformat": 4,
  "nbformat_minor": 0,
  "metadata": {
    "colab": {
      "provenance": [],
      "authorship_tag": "ABX9TyOTfM3cueTfdSZqh0GKzhzA",
      "include_colab_link": true
    },
    "kernelspec": {
      "name": "python3",
      "display_name": "Python 3"
    },
    "language_info": {
      "name": "python"
    }
  },
  "cells": [
    {
      "cell_type": "markdown",
      "metadata": {
        "id": "view-in-github",
        "colab_type": "text"
      },
      "source": [
        "<a href=\"https://colab.research.google.com/github/MMBAYAR/GUZ-24_ISLE421/blob/main/Ula%C5%9Ft%C4%B1rma%26SetCovering.ipynb\" target=\"_parent\"><img src=\"https://colab.research.google.com/assets/colab-badge.svg\" alt=\"Open In Colab\"/></a>"
      ]
    },
    {
      "cell_type": "code",
      "execution_count": 1,
      "metadata": {
        "colab": {
          "base_uri": "https://localhost:8080/"
        },
        "id": "kPKreS9UXHsI",
        "outputId": "8d2899dd-906e-432b-b965-f7e6ae11522d"
      },
      "outputs": [
        {
          "output_type": "stream",
          "name": "stdout",
          "text": [
            "Collecting gurobipy\n",
            "  Downloading gurobipy-12.0.0-cp310-cp310-manylinux2014_x86_64.manylinux_2_17_x86_64.whl.metadata (15 kB)\n",
            "Downloading gurobipy-12.0.0-cp310-cp310-manylinux2014_x86_64.manylinux_2_17_x86_64.whl (14.4 MB)\n",
            "\u001b[2K   \u001b[90m━━━━━━━━━━━━━━━━━━━━━━━━━━━━━━━━━━━━━━━━\u001b[0m \u001b[32m14.4/14.4 MB\u001b[0m \u001b[31m51.5 MB/s\u001b[0m eta \u001b[36m0:00:00\u001b[0m\n",
            "\u001b[?25hInstalling collected packages: gurobipy\n",
            "Successfully installed gurobipy-12.0.0\n"
          ]
        }
      ],
      "source": [
        "#  gurobipy yazılımını kur ve çalıştır\n",
        "!pip install gurobipy\n",
        "from gurobipy import*"
      ]
    },
    {
      "cell_type": "code",
      "source": [
        "#  Veri\n",
        "\n",
        "#    Birim ulaştırma maliyetleri\n",
        "C_u = [\n",
        "      (10,    12,    11,    10**10,10**10,10**10,2,     1,     3     ),\n",
        "      (10**10,10**10,10**10,4,     3,     5,     7,     11,    2     ),\n",
        "      (3,     7,     2,     8,     1,     4,     10**10,10**10,10**10),\n",
        "      (10,    11,    10**10,12,    13,    10**10,20,    13,    10**10)\n",
        "      ]\n",
        "\n",
        "#    Arsa satın alım bedelleri\n",
        "F_a = [3000,4000,5000,7000,6000,8000,11000,12000,13000]\n",
        "\n",
        "#    Şehirlerin talepleri\n",
        "D_j = [10000,9000,12000,11000]\n",
        "\n",
        "#    Birim inşaat maliyeti\n",
        "v = 100"
      ],
      "metadata": {
        "id": "gV-UCJ8SXTwm"
      },
      "execution_count": 2,
      "outputs": []
    },
    {
      "cell_type": "code",
      "source": [
        "#   Bir model objesini m değişkenine sabitliyorum\n",
        "m = Model()\n",
        "#   Karar Değişkenleri\n",
        "#    Arsa alım kararları\n",
        "a = m.addVars(\n",
        "              9,           #  len(F_a)\n",
        "              vtype = 'b'\n",
        "              )\n",
        "#    Kurulum (inşaat) kararları\n",
        "k = m.addVars(\n",
        "              9,           #  len(F_a)\n",
        "              vtype = 'i'\n",
        "              )\n",
        "#    Sevkiyat (ulaştırma) kararları\n",
        "u = m.addVars(\n",
        "              4,            #  len(D_j)  #  len(C_u)\n",
        "              9,            #  len(F_a)  #  len( C_u[0] )\n",
        "              vtype = 'c'\n",
        "              )\n",
        "\n",
        "#  Amaç Fonksiyonu\n",
        "m.setObjective(\n",
        "              quicksum( F_a[i]*a[i] for i in range(len(F_a)) )                                  #  Arsa alım maliyetleri\n",
        "              + quicksum( v*k[i] for i in range(len(F_a)) )                                     #  İnşaat maliyetleri\n",
        "              + quicksum( C_u[j][i]*u[j,i] for j in range(len(D_j)) for i in range(len(F_a)) )  #  Ulaştırma maliyetleri\n",
        "              , GRB.MINIMIZE\n",
        "              )\n",
        "\n",
        "#  Kısıtlar\n",
        "#    Mülkiyeti bende olmayan arsaya inşaat yapamam\n",
        "for i in range(9):\n",
        "  m.addConstr(\n",
        "              k[i] <= (10**10)*a[i]\n",
        "              )\n",
        "#    Şehirlerin talepleri karşılansın\n",
        "for j in range(4):\n",
        "  m.addConstr(\n",
        "              quicksum( u[j,i] for i in range(len(F_a)) ) >= D_j[j]\n",
        "              )\n",
        "#   Sevkiyatlar tesis kapasitelerini aşmasın\n",
        "for i in range(9):\n",
        "  m.addConstr(\n",
        "              quicksum( u[j,i] for j in range(len(D_j)) ) <= 10*k[i]\n",
        "              )\n",
        "\n",
        "#  Çöz!\n",
        "m.optimize()"
      ],
      "metadata": {
        "colab": {
          "base_uri": "https://localhost:8080/"
        },
        "id": "2HSJX2NSZXmz",
        "outputId": "82c85e2e-1422-47db-a76c-dda2518170f6"
      },
      "execution_count": 5,
      "outputs": [
        {
          "output_type": "stream",
          "name": "stdout",
          "text": [
            "Gurobi Optimizer version 12.0.0 build v12.0.0rc1 (linux64 - \"Ubuntu 22.04.3 LTS\")\n",
            "\n",
            "CPU model: Intel(R) Xeon(R) CPU @ 2.20GHz, instruction set [SSE2|AVX|AVX2]\n",
            "Thread count: 1 physical cores, 2 logical processors, using up to 2 threads\n",
            "\n",
            "Optimize a model with 22 rows, 54 columns and 99 nonzeros\n",
            "Model fingerprint: 0xee2545a1\n",
            "Variable types: 36 continuous, 18 integer (9 binary)\n",
            "Coefficient statistics:\n",
            "  Matrix range     [1e+00, 1e+10]\n",
            "  Objective range  [1e+00, 1e+10]\n",
            "  Bounds range     [1e+00, 1e+00]\n",
            "  RHS range        [9e+03, 1e+04]\n",
            "Warning: Model contains large matrix coefficients\n",
            "Warning: Model contains large objective coefficients\n",
            "         Consider reformulating model or setting NumericFocus parameter\n",
            "         to avoid numerical issues.\n",
            "Found heuristic solution: objective 9.000000e+13\n",
            "Presolve removed 9 rows and 9 columns\n",
            "Presolve time: 0.00s\n",
            "Presolved: 13 rows, 45 columns, 81 nonzeros\n",
            "Found heuristic solution: objective 9.000000e+13\n",
            "Variable types: 36 continuous, 9 integer (0 binary)\n",
            "\n",
            "Root relaxation: objective 5.700000e+05, 15 iterations, 0.00 seconds (0.00 work units)\n",
            "\n",
            "    Nodes    |    Current Node    |     Objective Bounds      |     Work\n",
            " Expl Unexpl |  Obj  Depth IntInf | Incumbent    BestBd   Gap | It/Node Time\n",
            "\n",
            "*    0     0               0    570000.00342 570000.003  0.00%     -    0s\n",
            "\n",
            "Explored 1 nodes (15 simplex iterations) in 0.03 seconds (0.00 work units)\n",
            "Thread count was 2 (of 2 available processors)\n",
            "\n",
            "Solution count 3: 570000 9e+13 9e+13 \n",
            "\n",
            "Optimal solution found (tolerance 1.00e-04)\n",
            "Best objective 5.700000034200e+05, best bound 5.700000034200e+05, gap 0.0000%\n"
          ]
        }
      ]
    },
    {
      "cell_type": "code",
      "source": [
        "a"
      ],
      "metadata": {
        "colab": {
          "base_uri": "https://localhost:8080/"
        },
        "id": "LjodQEc6d0PV",
        "outputId": "8f6ef0fd-6918-4ed9-d45a-9ec738956bbb"
      },
      "execution_count": 6,
      "outputs": [
        {
          "output_type": "execute_result",
          "data": {
            "text/plain": [
              "{0: <gurobi.Var C0 (value 1.099999999995e-07)>,\n",
              " 1: <gurobi.Var C1 (value -0.0)>,\n",
              " 2: <gurobi.Var C2 (value -0.0)>,\n",
              " 3: <gurobi.Var C3 (value -0.0)>,\n",
              " 4: <gurobi.Var C4 (value 1.199999999995e-07)>,\n",
              " 5: <gurobi.Var C5 (value -0.0)>,\n",
              " 6: <gurobi.Var C6 (value -0.0)>,\n",
              " 7: <gurobi.Var C7 (value 9.99999999995e-08)>,\n",
              " 8: <gurobi.Var C8 (value 8.99999999995e-08)>}"
            ]
          },
          "metadata": {},
          "execution_count": 6
        }
      ]
    },
    {
      "cell_type": "code",
      "source": [],
      "metadata": {
        "id": "Kk640jCFheGT"
      },
      "execution_count": null,
      "outputs": []
    }
  ]
}