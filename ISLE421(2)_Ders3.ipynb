{
  "nbformat": 4,
  "nbformat_minor": 0,
  "metadata": {
    "colab": {
      "provenance": [],
      "authorship_tag": "ABX9TyOoXCUCymhccAaxksew4I8G",
      "include_colab_link": true
    },
    "kernelspec": {
      "name": "python3",
      "display_name": "Python 3"
    },
    "language_info": {
      "name": "python"
    }
  },
  "cells": [
    {
      "cell_type": "markdown",
      "metadata": {
        "id": "view-in-github",
        "colab_type": "text"
      },
      "source": [
        "<a href=\"https://colab.research.google.com/github/MMBAYAR/GUZ-24_ISLE421/blob/main/ISLE421(2)_Ders3.ipynb\" target=\"_parent\"><img src=\"https://colab.research.google.com/assets/colab-badge.svg\" alt=\"Open In Colab\"/></a>"
      ]
    },
    {
      "cell_type": "code",
      "execution_count": 1,
      "metadata": {
        "colab": {
          "base_uri": "https://localhost:8080/"
        },
        "collapsed": true,
        "id": "wN5nxLXhFEQv",
        "outputId": "38a2b04a-8628-4538-9a9d-ced44d3d23aa"
      },
      "outputs": [
        {
          "output_type": "stream",
          "name": "stdout",
          "text": [
            "Collecting gurobipy\n",
            "  Downloading gurobipy-11.0.3-cp310-cp310-manylinux2014_x86_64.manylinux_2_17_x86_64.whl.metadata (15 kB)\n",
            "Downloading gurobipy-11.0.3-cp310-cp310-manylinux2014_x86_64.manylinux_2_17_x86_64.whl (13.4 MB)\n",
            "\u001b[2K   \u001b[90m━━━━━━━━━━━━━━━━━━━━━━━━━━━━━━━━━━━━━━━━\u001b[0m \u001b[32m13.4/13.4 MB\u001b[0m \u001b[31m30.5 MB/s\u001b[0m eta \u001b[36m0:00:00\u001b[0m\n",
            "\u001b[?25hInstalling collected packages: gurobipy\n",
            "Successfully installed gurobipy-11.0.3\n"
          ]
        }
      ],
      "source": [
        "#  Gurobi'yi kur, çağır\n",
        "!pip install gurobipy\n",
        "from gurobipy import*"
      ]
    },
    {
      "cell_type": "code",
      "source": [
        "#  Çifçi Jones Problemi (Toprak mik.)\n",
        "\n",
        "#    Problemin Verisi: c\n",
        "c = [4*25, 3*10]\n",
        "#    Problemin Verisi: b\n",
        "b = [30, 40, 7]\n",
        "#    Probleimin Verisi: A\n",
        "A = [\n",
        "    (-0, -10),  #  tarım pol. kısıtı\n",
        "    (10, 4),  #  mesai kısıtı\n",
        "    (1, 1)    #  toprak kısıtı\n",
        "    ]"
      ],
      "metadata": {
        "id": "cE0JkZDmFjMn"
      },
      "execution_count": 8,
      "outputs": []
    },
    {
      "cell_type": "code",
      "source": [
        "#  Problemin modelini gurobipy içine tanımlama\n",
        "m = Model() #  Model objesi yarattım\n",
        "\n",
        "#    Karar değişkenlerini tanımlıyorum\n",
        "x = m.addVars(len(c), vtype = \"c\")\n",
        "\n",
        "#    Amaç fonksiyonunu tanımlıyorum\n",
        "m.setObjective(quicksum( c[i]*x[i] for i in range(len(c)) ), GRB.MAXIMIZE)\n",
        "\n",
        "#    Kısıtlar\n",
        "#      ama birinci kısıtım <= değildi\n",
        "b[0] = -b[0]  #  artık <= oldu\n",
        "for i in range(len(A)):\n",
        "  #print(i)\n",
        "  m.addConstr( quicksum( A[i][j]*x[j] for j in range(len(c)) )\n",
        "              <= b[i])\n",
        "\n",
        "#    Çözdürme komutu\n",
        "m.optimize()"
      ],
      "metadata": {
        "colab": {
          "base_uri": "https://localhost:8080/"
        },
        "id": "MszFiLvXHO_i",
        "outputId": "01c78859-9e4e-4be3-876c-892fa62b513a"
      },
      "execution_count": 9,
      "outputs": [
        {
          "output_type": "stream",
          "name": "stdout",
          "text": [
            "Gurobi Optimizer version 11.0.3 build v11.0.3rc0 (linux64 - \"Ubuntu 22.04.3 LTS\")\n",
            "\n",
            "CPU model: Intel(R) Xeon(R) CPU @ 2.20GHz, instruction set [SSE2|AVX|AVX2]\n",
            "Thread count: 1 physical cores, 2 logical processors, using up to 2 threads\n",
            "\n",
            "Optimize a model with 3 rows, 2 columns and 5 nonzeros\n",
            "Model fingerprint: 0x86b28b0d\n",
            "Coefficient statistics:\n",
            "  Matrix range     [1e+00, 1e+01]\n",
            "  Objective range  [3e+01, 1e+02]\n",
            "  Bounds range     [0e+00, 0e+00]\n",
            "  RHS range        [7e+00, 4e+01]\n",
            "Presolve removed 1 rows and 0 columns\n",
            "Presolve time: 0.03s\n",
            "Presolved: 2 rows, 2 columns, 4 nonzeros\n",
            "\n",
            "Iteration    Objective       Primal Inf.    Dual Inf.      Time\n",
            "       0    3.7000000e+02   0.000000e+00   0.000000e+00      0s\n",
            "       0    3.7000000e+02   0.000000e+00   0.000000e+00      0s\n",
            "\n",
            "Solved in 0 iterations and 0.05 seconds (0.00 work units)\n",
            "Optimal objective  3.700000000e+02\n"
          ]
        }
      ]
    },
    {
      "cell_type": "code",
      "source": [],
      "metadata": {
        "id": "gKjEStf2JwlN"
      },
      "execution_count": null,
      "outputs": []
    },
    {
      "cell_type": "code",
      "source": [],
      "metadata": {
        "id": "UZRmiTIGIlSL"
      },
      "execution_count": null,
      "outputs": []
    }
  ]
}