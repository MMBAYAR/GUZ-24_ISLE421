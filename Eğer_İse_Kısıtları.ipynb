{
  "nbformat": 4,
  "nbformat_minor": 0,
  "metadata": {
    "colab": {
      "provenance": [],
      "authorship_tag": "ABX9TyOQqD2EQ9li64syCW6K4eDe",
      "include_colab_link": true
    },
    "kernelspec": {
      "name": "python3",
      "display_name": "Python 3"
    },
    "language_info": {
      "name": "python"
    }
  },
  "cells": [
    {
      "cell_type": "markdown",
      "metadata": {
        "id": "view-in-github",
        "colab_type": "text"
      },
      "source": [
        "<a href=\"https://colab.research.google.com/github/MMBAYAR/GUZ-24_ISLE421/blob/main/E%C4%9Fer_%C4%B0se_K%C4%B1s%C4%B1tlar%C4%B1.ipynb\" target=\"_parent\"><img src=\"https://colab.research.google.com/assets/colab-badge.svg\" alt=\"Open In Colab\"/></a>"
      ]
    },
    {
      "cell_type": "code",
      "execution_count": 4,
      "metadata": {
        "colab": {
          "base_uri": "https://localhost:8080/"
        },
        "id": "DzHGa--xFyUk",
        "outputId": "0942597e-3363-4781-8c5b-92c6f2b5f465"
      },
      "outputs": [
        {
          "output_type": "stream",
          "name": "stdout",
          "text": [
            "Requirement already satisfied: gurobipy in /usr/local/lib/python3.10/dist-packages (12.0.0)\n"
          ]
        }
      ],
      "source": [
        "#  Gurobipy modülünü kurup çalıştırıyorum\n",
        "#    kurulum\n",
        "!pip install gurobipy\n",
        "#    çalıştır\n",
        "from gurobipy import*"
      ]
    },
    {
      "cell_type": "code",
      "source": [
        "#  Veri\n",
        "\n",
        "#    Amaç f/n katsayıları\n",
        "c_x = [6, 4, 7]\n",
        "c_y = [-200, -150, -100]\n",
        "\n",
        "#    Kısıt sağ taraf sabitleri\n",
        "b = [160, 150, 0, 0, 0]\n",
        "\n",
        "#    Kısıt sol taraf katsayıları\n",
        "\n",
        "M = 10**3  #  yeterince büyük, pozitif değer\n",
        "\n",
        "A = [(4, 3, 4, 0, 0, 0),\n",
        "     (3, 2, 6, 0, 0, 0),\n",
        "     (1, 0, 0, -M, 0, 0),\n",
        "     (0, 1, 0, 0, -M, 0),\n",
        "     (0, 0, 1, 0, 0, -M)]"
      ],
      "metadata": {
        "id": "-pKlSJtVGGA-"
      },
      "execution_count": 2,
      "outputs": []
    },
    {
      "cell_type": "code",
      "source": [
        "#  Model objesini bir m değişkeninde sabitliyorum\n",
        "m = Model()\n",
        "\n",
        "#  Karar Değişkenleri\n",
        "x = m.addVars( len(c_x), vtype = 'i' ) #  'i': integer (tam sayı) --> 0, 1, 2, ...\n",
        "y = m.addVars( len(c_y), vtype = 'b' ) #  'b': binary (ikili)     --> {0, 1}\n",
        "\n",
        "#  Amaç Fonksiyonu\n",
        "m.setObjective(\n",
        "              quicksum( c_x[j]*x[j] for j in range(len(c_x)) )\n",
        "              + quicksum( c_y[j]*y[j] for j in range(len(c_y)) )\n",
        "              , GRB.MAXIMIZE\n",
        "              )\n",
        "\n",
        "#  Kısıtlar\n",
        "#    Kumaş\n",
        "a_k = (4,3,4)\n",
        "m.addConstr(\n",
        "quicksum( a_k[j]*x[j] for j in range(len(a_k)) ) <= 160\n",
        ")\n",
        "#    İşçilik\n",
        "a_i = (3, 2, 6)\n",
        "m.addConstr(\n",
        "quicksum( a_i[j]*x[j] for j in range(len(a_i)) ) <= 150\n",
        ")\n",
        "#    Gömlek tezgah\n",
        "m.addConstr(\n",
        "x[0] <= M*y[0]\n",
        ")\n",
        "#    Şort tezgah\n",
        "m.addConstr(\n",
        "x[1] <= M*y[1]\n",
        ")\n",
        "#    Pantolon tezgah\n",
        "m.addConstr(\n",
        "x[2] <= M*y[2]\n",
        ")\n",
        "\n",
        "#  Çöz!\n",
        "m.optimize()"
      ],
      "metadata": {
        "colab": {
          "base_uri": "https://localhost:8080/"
        },
        "id": "7PmArpSfH0kO",
        "outputId": "a42fed1c-90cd-4b4b-cf2f-3bd34730579c"
      },
      "execution_count": 3,
      "outputs": [
        {
          "output_type": "stream",
          "name": "stdout",
          "text": [
            "Restricted license - for non-production use only - expires 2026-11-23\n",
            "Gurobi Optimizer version 12.0.0 build v12.0.0rc1 (linux64 - \"Ubuntu 22.04.3 LTS\")\n",
            "\n",
            "CPU model: Intel(R) Xeon(R) CPU @ 2.20GHz, instruction set [SSE2|AVX|AVX2]\n",
            "Thread count: 1 physical cores, 2 logical processors, using up to 2 threads\n",
            "\n",
            "Optimize a model with 5 rows, 6 columns and 12 nonzeros\n",
            "Model fingerprint: 0x5c50d2f1\n",
            "Variable types: 0 continuous, 6 integer (3 binary)\n",
            "Coefficient statistics:\n",
            "  Matrix range     [1e+00, 1e+03]\n",
            "  Objective range  [4e+00, 2e+02]\n",
            "  Bounds range     [1e+00, 1e+00]\n",
            "  RHS range        [2e+02, 2e+02]\n",
            "Found heuristic solution: objective -0.0000000\n",
            "Found heuristic solution: objective 40.0000000\n",
            "Presolve time: 0.00s\n",
            "Presolved: 5 rows, 6 columns, 12 nonzeros\n",
            "Variable types: 0 continuous, 6 integer (3 binary)\n",
            "\n",
            "Root relaxation: objective 8.111321e+01, 5 iterations, 0.00 seconds (0.00 work units)\n",
            "\n",
            "    Nodes    |    Current Node    |     Objective Bounds      |     Work\n",
            " Expl Unexpl |  Obj  Depth IntInf | Incumbent    BestBd   Gap | It/Node Time\n",
            "\n",
            "     0     0   81.11321    0    2   40.00000   81.11321   103%     -    0s\n",
            "H    0     0                      75.0000000   81.11321  8.15%     -    0s\n",
            "     0     0   81.11321    0    2   75.00000   81.11321  8.15%     -    0s\n",
            "\n",
            "Explored 1 nodes (5 simplex iterations) in 0.03 seconds (0.00 work units)\n",
            "Thread count was 2 (of 2 available processors)\n",
            "\n",
            "Solution count 3: 75 40 -0 \n",
            "\n",
            "Optimal solution found (tolerance 1.00e-04)\n",
            "Best objective 7.500000000000e+01, best bound 7.500000000000e+01, gap 0.0000%\n"
          ]
        }
      ]
    },
    {
      "cell_type": "markdown",
      "source": [
        "#  Otomobil Üreticisi Örneği"
      ],
      "metadata": {
        "id": "PkaJWy_vZQtJ"
      }
    },
    {
      "cell_type": "code",
      "source": [
        "#  Veri\n",
        "c_x = [2000, 3000, 4000]\n",
        "\n",
        "b_2 = [6000, 60000]\n",
        "\n",
        "A_x = [(1.5, 3, 5),\n",
        "       (30, 25,40)]"
      ],
      "metadata": {
        "id": "Zyf8C6VWLP6s"
      },
      "execution_count": 5,
      "outputs": []
    },
    {
      "cell_type": "code",
      "source": [
        "m = Model()\n",
        "\n",
        "# Karar Değişkenleri\n",
        "x = m.addVars( 3, vtype = 'i' )\n",
        "y = m.addVars( 3, vtype = 'b' )\n",
        "\n",
        "# Amaç Fonksiyonu\n",
        "m.setObjective(\n",
        "quicksum( c_x[j]*x[j] for j in range(len(c_x)) )\n",
        ", GRB.MAXIMIZE\n",
        ")\n",
        "\n",
        "# Kısıtlar\n",
        "#  İlk İki Kısıt\n",
        "for i in range(len(A_x)):\n",
        "  m.addConstr(\n",
        "  quicksum( A_x[i][j]*x[j] for j in range(len(A_x[i])) ) <= b[i]\n",
        "  )\n",
        "\n",
        "#  Üretim hattı açıp açmama: 3 tane ürünüm var\n",
        "M = 10**5\n",
        "for j in range(len(c_x)):  #v yerine y.keys() yazabilirdim\n",
        "  m.addConstr(\n",
        "  x[j] <= M*y[j]\n",
        "  )\n",
        "\n",
        "#  Başabaş noktasının altında üretim yapılmasını yasakla: Başabaş = [900, 1000, 1100]\n",
        "Başabaş = [900, 1000, 1100]\n",
        "\n",
        "for j in y.keys():        # y.keys() yerine range(len(c_x)) yazabilirdim\n",
        "  m.addConstr(\n",
        "  x[j] - Başabaş[j] <= M * (1 - y[j])\n",
        "  )\n",
        "\n",
        "#  Çöz!\n",
        "m.optimize()"
      ],
      "metadata": {
        "colab": {
          "base_uri": "https://localhost:8080/"
        },
        "id": "RxHivh_ZZq6W",
        "outputId": "2189dff2-fd4e-4122-fbbd-0cd2a34b72d2"
      },
      "execution_count": 9,
      "outputs": [
        {
          "output_type": "stream",
          "name": "stdout",
          "text": [
            "Gurobi Optimizer version 12.0.0 build v12.0.0rc1 (linux64 - \"Ubuntu 22.04.3 LTS\")\n",
            "\n",
            "CPU model: Intel(R) Xeon(R) CPU @ 2.20GHz, instruction set [SSE2|AVX|AVX2]\n",
            "Thread count: 1 physical cores, 2 logical processors, using up to 2 threads\n",
            "\n",
            "Optimize a model with 8 rows, 6 columns and 18 nonzeros\n",
            "Model fingerprint: 0xe43f3f19\n",
            "Variable types: 0 continuous, 6 integer (3 binary)\n",
            "Coefficient statistics:\n",
            "  Matrix range     [1e+00, 1e+05]\n",
            "  Objective range  [2e+03, 4e+03]\n",
            "  Bounds range     [1e+00, 1e+00]\n",
            "  RHS range        [2e+02, 1e+05]\n",
            "Found heuristic solution: objective -0.0000000\n",
            "Found heuristic solution: objective 10000.000000\n",
            "Presolve removed 8 rows and 6 columns\n",
            "Presolve time: 0.00s\n",
            "Presolve: All rows and columns removed\n",
            "\n",
            "Explored 0 nodes (0 simplex iterations) in 0.02 seconds (0.00 work units)\n",
            "Thread count was 1 (of 2 available processors)\n",
            "\n",
            "Solution count 3: 18000 10000 -0 \n",
            "\n",
            "Optimal solution found (tolerance 1.00e-04)\n",
            "Best objective 1.800000000000e+04, best bound 1.800000000000e+04, gap 0.0000%\n"
          ]
        }
      ]
    },
    {
      "cell_type": "code",
      "source": [],
      "metadata": {
        "id": "HiQZ8gfMcOIt"
      },
      "execution_count": null,
      "outputs": []
    }
  ]
}