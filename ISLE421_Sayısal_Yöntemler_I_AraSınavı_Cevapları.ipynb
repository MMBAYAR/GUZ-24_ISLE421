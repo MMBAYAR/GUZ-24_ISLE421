{
  "nbformat": 4,
  "nbformat_minor": 0,
  "metadata": {
    "colab": {
      "provenance": [],
      "authorship_tag": "ABX9TyPZVKYGbpNZoJkMAmjpsoNh",
      "include_colab_link": true
    },
    "kernelspec": {
      "name": "python3",
      "display_name": "Python 3"
    },
    "language_info": {
      "name": "python"
    }
  },
  "cells": [
    {
      "cell_type": "markdown",
      "metadata": {
        "id": "view-in-github",
        "colab_type": "text"
      },
      "source": [
        "<a href=\"https://colab.research.google.com/github/MMBAYAR/GUZ-24_ISLE421/blob/main/ISLE421_Say%C4%B1sal_Y%C3%B6ntemler_I_AraS%C4%B1nav%C4%B1_Cevaplar%C4%B1.ipynb\" target=\"_parent\"><img src=\"https://colab.research.google.com/assets/colab-badge.svg\" alt=\"Open In Colab\"/></a>"
      ]
    },
    {
      "cell_type": "code",
      "execution_count": 1,
      "metadata": {
        "colab": {
          "base_uri": "https://localhost:8080/"
        },
        "id": "o9YKBge17M4K",
        "outputId": "9e57782c-61de-44eb-bdaa-31d4a967d0d4"
      },
      "outputs": [
        {
          "output_type": "stream",
          "name": "stdout",
          "text": [
            "Collecting gurobipy\n",
            "  Downloading gurobipy-12.0.0-cp310-cp310-manylinux2014_x86_64.manylinux_2_17_x86_64.whl.metadata (15 kB)\n",
            "Downloading gurobipy-12.0.0-cp310-cp310-manylinux2014_x86_64.manylinux_2_17_x86_64.whl (14.4 MB)\n",
            "\u001b[2K   \u001b[90m━━━━━━━━━━━━━━━━━━━━━━━━━━━━━━━━━━━━━━━━\u001b[0m \u001b[32m14.4/14.4 MB\u001b[0m \u001b[31m31.3 MB/s\u001b[0m eta \u001b[36m0:00:00\u001b[0m\n",
            "\u001b[?25hInstalling collected packages: gurobipy\n",
            "Successfully installed gurobipy-12.0.0\n"
          ]
        }
      ],
      "source": [
        "#  gurobipy'ı kuruyorum\n",
        "!pip install gurobipy\n",
        "#  gurobipy'ı çalıştır\n",
        "from gurobipy import*"
      ]
    },
    {
      "cell_type": "code",
      "source": [
        "#  Veri\n",
        "#    c\n",
        "c = [49, 20, 12]\n",
        "#    b\n",
        "b = [30, 12, 1, 2, 0]\n",
        "#    A\n",
        "A = [(8, 6, 2),\n",
        "     (4, 2, 1.5),\n",
        "     (1/5, 1/9, 1/11),\n",
        "     (0, 1, 0),\n",
        "     (-49/4, -5, 9)]"
      ],
      "metadata": {
        "id": "WGtougx97fEs"
      },
      "execution_count": 2,
      "outputs": []
    },
    {
      "cell_type": "code",
      "source": [
        "#  bir model objesini sabitlemek\n",
        "m = Model()\n",
        "\n",
        "#  karar değişkenlerini tanımlamak\n",
        "x = m.addVars( len(c), vtype = 'c' )\n",
        "\n",
        "#  amaç fonksiyonunu tanımlamak\n",
        "m.setObjective(\n",
        "quicksum( c[j]*x[j] for j in range(len(c)) ),\n",
        "GRB.MAXIMIZE\n",
        ")\n",
        "\n",
        "#  kısıtları tanımlıyorum\n",
        "#    (1. kaynak kısıtı)\n",
        "m.addConstr(\n",
        "quicksum( A[0][j]*x[j] for j in range(len(c)) ) <= b[0]\n",
        ")\n",
        "#    (2. kaynak kısıtı)\n",
        "m.addConstr(\n",
        "quicksum( A[1][j]*x[j] for j in range(len(c)) ) <= b[1]\n",
        ")\n",
        "#    (kapasite kısıtı)\n",
        "m.addConstr(\n",
        "quicksum( A[2][j]*x[j] for j in range(len(c)) ) <= b[2]\n",
        ")\n",
        "#    (devlet kısıtı)\n",
        "m.addConstr(\n",
        "quicksum( A[3][j]*x[j] for j in range(len(c)) ) == b[3]\n",
        ")\n",
        "#    (politika kısıtı)\n",
        "m.addConstr(\n",
        "quicksum( A[4][j]*x[j] for j in range(len(c)) ) >= b[4]\n",
        ")\n",
        "\n",
        "#  çöz\n",
        "m.optimize()"
      ],
      "metadata": {
        "colab": {
          "base_uri": "https://localhost:8080/"
        },
        "id": "XC0vVxFN8LX-",
        "outputId": "0955479c-8d0b-4f0c-bcfc-46a073d58a60"
      },
      "execution_count": 4,
      "outputs": [
        {
          "output_type": "stream",
          "name": "stdout",
          "text": [
            "Gurobi Optimizer version 12.0.0 build v12.0.0rc1 (linux64 - \"Ubuntu 22.04.3 LTS\")\n",
            "\n",
            "CPU model: Intel(R) Xeon(R) CPU @ 2.20GHz, instruction set [SSE2|AVX|AVX2]\n",
            "Thread count: 1 physical cores, 2 logical processors, using up to 2 threads\n",
            "\n",
            "Optimize a model with 5 rows, 3 columns and 13 nonzeros\n",
            "Model fingerprint: 0x11a7763b\n",
            "Coefficient statistics:\n",
            "  Matrix range     [9e-02, 1e+01]\n",
            "  Objective range  [1e+01, 5e+01]\n",
            "  Bounds range     [0e+00, 0e+00]\n",
            "  RHS range        [1e+00, 3e+01]\n",
            "Presolve removed 2 rows and 1 columns\n",
            "Presolve time: 0.02s\n",
            "Presolved: 3 rows, 2 columns, 6 nonzeros\n",
            "\n",
            "Iteration    Objective       Primal Inf.    Dual Inf.      Time\n",
            "       0    1.4947150e+02   1.060427e+00   0.000000e+00      0s\n",
            "       3    1.2182069e+02   0.000000e+00   0.000000e+00      0s\n",
            "\n",
            "Solved in 3 iterations and 0.03 seconds (0.00 work units)\n",
            "Optimal objective  1.218206897e+02\n"
          ]
        }
      ]
    },
    {
      "cell_type": "code",
      "source": [
        "[x[j].x for j in range(len(c))]"
      ],
      "metadata": {
        "colab": {
          "base_uri": "https://localhost:8080/"
        },
        "id": "dkHAONJO97JA",
        "outputId": "51fe10c9-b65a-4ba2-e922-c5ca1c907034"
      },
      "execution_count": 5,
      "outputs": [
        {
          "output_type": "execute_result",
          "data": {
            "text/plain": [
              "[1.0482758620689656, 2.0, 2.5379310344827584]"
            ]
          },
          "metadata": {},
          "execution_count": 5
        }
      ]
    },
    {
      "cell_type": "code",
      "source": [
        "#    (1. kaynak kısıtı)\n",
        "quicksum( A[0][j]*x[j].x for j in range(len(c)) ) , b[0]"
      ],
      "metadata": {
        "colab": {
          "base_uri": "https://localhost:8080/"
        },
        "id": "Ynvypz_G-OKR",
        "outputId": "45d005b0-d2e9-40ff-c414-7caa3ccac048"
      },
      "execution_count": 6,
      "outputs": [
        {
          "output_type": "execute_result",
          "data": {
            "text/plain": [
              "(<gurobi.LinExpr: 25.462068965517243>, 30)"
            ]
          },
          "metadata": {},
          "execution_count": 6
        }
      ]
    },
    {
      "cell_type": "code",
      "source": [
        "#    (2. kaynak kısıtı)\n",
        "quicksum( A[1][j]*x[j].x for j in range(len(c)) ) , b[1]"
      ],
      "metadata": {
        "colab": {
          "base_uri": "https://localhost:8080/"
        },
        "id": "2qSJNpaw-n3y",
        "outputId": "9d733959-25d5-461e-ca9f-74b7d89ba6e5"
      },
      "execution_count": 7,
      "outputs": [
        {
          "output_type": "execute_result",
          "data": {
            "text/plain": [
              "(<gurobi.LinExpr: 12.0>, 12)"
            ]
          },
          "metadata": {},
          "execution_count": 7
        }
      ]
    },
    {
      "cell_type": "code",
      "source": [
        "#    (kapasite kısıtı)\n",
        "quicksum( A[2][j]*x[j].x for j in range(len(c)) ) , b[2]"
      ],
      "metadata": {
        "colab": {
          "base_uri": "https://localhost:8080/"
        },
        "id": "HMzyRrUW-qfQ",
        "outputId": "48bd4039-50c9-4399-d0a8-2a840f91f938"
      },
      "execution_count": 8,
      "outputs": [
        {
          "output_type": "execute_result",
          "data": {
            "text/plain": [
              "(<gurobi.LinExpr: 0.6625983977708116>, 1)"
            ]
          },
          "metadata": {},
          "execution_count": 8
        }
      ]
    },
    {
      "cell_type": "code",
      "source": [
        "#    (devlet kısıtı)\n",
        "quicksum( A[3][j]*x[j].x for j in range(len(c)) ) , b[3]"
      ],
      "metadata": {
        "colab": {
          "base_uri": "https://localhost:8080/"
        },
        "id": "tI1Im7PC-sqg",
        "outputId": "f36656d6-4f06-4b68-a7f1-738c563fbf75"
      },
      "execution_count": 9,
      "outputs": [
        {
          "output_type": "execute_result",
          "data": {
            "text/plain": [
              "(<gurobi.LinExpr: 2.0>, 2)"
            ]
          },
          "metadata": {},
          "execution_count": 9
        }
      ]
    },
    {
      "cell_type": "code",
      "source": [
        "#    (politika kısıtı)\n",
        "quicksum( A[4][j]*x[j].x for j in range(len(c)) ) , b[4]"
      ],
      "metadata": {
        "colab": {
          "base_uri": "https://localhost:8080/"
        },
        "id": "n-XVpB3h-vCA",
        "outputId": "98a7caf8-f73e-480d-e636-1812fd80db47"
      },
      "execution_count": 10,
      "outputs": [
        {
          "output_type": "execute_result",
          "data": {
            "text/plain": [
              "(<gurobi.LinExpr: 0.0>, 0)"
            ]
          },
          "metadata": {},
          "execution_count": 10
        }
      ]
    },
    {
      "cell_type": "code",
      "source": [
        "m.getAttr( 'Pi' )"
      ],
      "metadata": {
        "colab": {
          "base_uri": "https://localhost:8080/"
        },
        "id": "KsOjuese-w6A",
        "outputId": "0e637957-aae9-46a8-e097-f1db88847ff7"
      },
      "execution_count": 11,
      "outputs": [
        {
          "output_type": "execute_result",
          "data": {
            "text/plain": [
              "[0.0, 10.813793103448276, 0.0, -3.972413793103449, -0.46896551724137936]"
            ]
          },
          "metadata": {},
          "execution_count": 11
        }
      ]
    },
    {
      "cell_type": "code",
      "source": [
        "m.getAttr( 'RC' )"
      ],
      "metadata": {
        "colab": {
          "base_uri": "https://localhost:8080/"
        },
        "id": "mERPRCLu-53S",
        "outputId": "c080bfa8-2e88-4cd2-caba-8ac48c87e131"
      },
      "execution_count": 12,
      "outputs": [
        {
          "output_type": "execute_result",
          "data": {
            "text/plain": [
              "[0.0, 0.0, 0.0]"
            ]
          },
          "metadata": {},
          "execution_count": 12
        }
      ]
    },
    {
      "cell_type": "code",
      "source": [],
      "metadata": {
        "id": "BsnP0hAR_G5z"
      },
      "execution_count": null,
      "outputs": []
    }
  ]
}